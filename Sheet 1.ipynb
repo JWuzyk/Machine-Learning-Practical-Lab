{
 "cells": [
  {
   "cell_type": "code",
   "execution_count": 31,
   "metadata": {},
   "outputs": [],
   "source": [
    "import numpy as np\n",
    "import matplotlib.pyplot as plt\n",
    "import time\n",
    "import pandas as pd\n",
    "from scipy.spatial import distance"
   ]
  },
  {
   "cell_type": "markdown",
   "metadata": {},
   "source": [
    "# 1.0"
   ]
  },
  {
   "cell_type": "code",
   "execution_count": 32,
   "metadata": {},
   "outputs": [],
   "source": [
    "SampleSet = range(3)\n",
    "SubSeq = np.array([2,0,1])\n",
    "n = 10000\n",
    "z = np.random.choice(SampleSet,n)"
   ]
  },
  {
   "cell_type": "code",
   "execution_count": 33,
   "metadata": {},
   "outputs": [
    {
     "name": "stdout",
     "output_type": "stream",
     "text": [
      "runtime:  0.009999752044677734\n",
      "number of apparences of (2,0,1):  390\n"
     ]
    }
   ],
   "source": [
    "start = time.time()\n",
    "cnt = 0\n",
    "for i in range(n-2):\n",
    "    if z[i]==2 and z[i+1]==0 and z[i+2]==1:\n",
    "        cnt=cnt+1\n",
    "end= time.time()\n",
    "print('runtime: ' ,end-start)\n",
    "print('number of apparences of (2,0,1): ',cnt)"
   ]
  },
  {
   "cell_type": "code",
   "execution_count": 34,
   "metadata": {},
   "outputs": [
    {
     "name": "stdout",
     "output_type": "stream",
     "text": [
      "runtime:  0.019999980926513672\n",
      "number of apparences of (2,0,1):  390\n"
     ]
    }
   ],
   "source": [
    "start = time.time()\n",
    "Shift1=np.roll(z,n-1)\n",
    "Shift2=np.roll(z,n-2)\n",
    "Shift1[n-1],Shift2[n-1],Shift2[n-2]=-99999,-99999,-99999\n",
    "ans=np.logical_and(Shift2==1,np.logical_and(z==2,Shift1==0))\n",
    "end= time.time()\n",
    "print('runtime: ' ,end-start)\n",
    "print('number of apparences of (2,0,1): ',cnt)"
   ]
  },
  {
   "cell_type": "markdown",
   "metadata": {},
   "source": [
    "# 1.1a"
   ]
  },
  {
   "cell_type": "code",
   "execution_count": 5,
   "metadata": {},
   "outputs": [
    {
     "data": {
      "image/png": "[encoded data removed]",
      "text/plain": [
       "<Figure size 432x288 with 1 Axes>"
      ]
     },
     "metadata": {
      "needs_background": "light"
     },
     "output_type": "display_data"
    }
   ],
   "source": [
    "SampleSize = 10\n",
    "meana=np.array([1.5, 0])\n",
    "meanb= np.array([0,1.5])\n",
    "var=np.eye(2,2)\n",
    "a= np.random.multivariate_normal(meana, var, SampleSize)\n",
    "b= np.random.multivariate_normal(meanb, var, SampleSize)\n",
    "plt.plot(a[:,0],a[:,1],'ro')\n",
    "plt.plot(b[:,0],b[:,1],'bo')\n",
    "plt.show()"
   ]
  },
  {
   "cell_type": "markdown",
   "metadata": {},
   "source": [
    "# 1.1b"
   ]
  },
  {
   "cell_type": "code",
   "execution_count": 6,
   "metadata": {},
   "outputs": [
    {
     "name": "stdout",
     "output_type": "stream",
     "text": [
      "(100, 2)\n",
      "(100, 3)\n"
     ]
    },
    {
     "data": {
      "image/png": "[encoded data removed]",
      "text/plain": [
       "<Figure size 432x288 with 1 Axes>"
      ]
     },
     "metadata": {
      "needs_background": "light"
     },
     "output_type": "display_data"
    }
   ],
   "source": [
    "SampleSet = range(10)\n",
    "n = 100\n",
    "Indx = np.random.choice(SampleSet,2*n)\n",
    "eps1=np.random.multivariate_normal([0,0], 1/4*np.eye(2,2), n)\n",
    "eps2=np.random.multivariate_normal([0,0], 1/4*np.eye(2,2), n)\n",
    "x1= a[Indx[0:n]]+eps1\n",
    "x2= b[Indx[n:2*n]]+eps2\n",
    "print(x1.shape)\n",
    "\n",
    "x1=np.insert(x1,2,1,axis=1)\n",
    "\n",
    "print(x1.shape)\n",
    "x2= np.insert(x2,2,0,axis=1)\n",
    "\n",
    "Data1 = np.concatenate((x1,x2))\n",
    "plt.plot(Data1[0:n,0],Data1[0:n,1],'ro',Data1[n:2*n,0],Data1[n:2*n,1],'bo')\n",
    "plt.show()"
   ]
  },
  {
   "cell_type": "markdown",
   "metadata": {},
   "source": [
    "# 1.2"
   ]
  },
  {
   "cell_type": "code",
   "execution_count": 7,
   "metadata": {},
   "outputs": [],
   "source": [
    "# Solve LLS\n",
    "# returns coefficients for classifiying line a_0x_0 + ... + a_(d-1)x_(d-1) + a_d = 0.5\n",
    "def LLS(X): #X a (n,d) numpy array with d-1 dependent variables and 1 independent variable\n",
    "    n = X.shape[0]\n",
    "    d = X.shape[1]\n",
    "    X = np.insert(X,d-1,1,axis=1) # add column of 1s for constant term\n",
    "    x = X[:,0:d] # dependent variable\n",
    "    y = X[:,d] # independent variable\n",
    "    y=y.reshape(n,1)\n",
    "    c=x.T@x\n",
    "    return(np.linalg.solve(c,x.T@y)) "
   ]
  },
  {
   "cell_type": "code",
   "execution_count": 8,
   "metadata": {},
   "outputs": [],
   "source": [
    "# Gives a scatter plot of labeled data with Sperating Hyperplane\n",
    "# Input should be a (n,3) matrix with the first 2 columns the dependent variables and the last column the dependent variable (should be 0s and 1s)\n",
    "def conplot(X):\n",
    "    alpha=LLS(X)\n",
    "    maxx = np.amax(X[:,0])\n",
    "    maxy = np.amax(X[:,1])\n",
    "    minx = np.amin(X[:,0])\n",
    "    miny = np.amin(X[:,1])\n",
    "    t = np.arange(minx-1, maxx+1, 0.1)\n",
    "    s = np.arange(miny-1, maxy+1, 0.1)\n",
    "    p,q = np.meshgrid(t, s, sparse=True)\n",
    "    z = alpha[1,0]*q+alpha[0,0]*p + alpha[2,0]\n",
    "    h = plt.contourf(t,s,z,[-99999,0.5,99999], colors=['blue','red'],alpha=0.5)\n",
    "    plt.plot(X[X[:,2]==1][:,0],X[X[:,2]==1][:,1],'ro',X[X[:,2]==0][:,0],X[X[:,2]==0][:,1],'bo')"
   ]
  },
  {
   "cell_type": "code",
   "execution_count": 9,
   "metadata": {},
   "outputs": [
    {
     "data": {
      "image/png": "[encoded data removed]",
      "text/plain": [
       "<Figure size 432x288 with 1 Axes>"
      ]
     },
     "metadata": {
      "needs_background": "light"
     },
     "output_type": "display_data"
    }
   ],
   "source": [
    "conplot(Data1)\n",
    "plt.show()"
   ]
  },
  {
   "cell_type": "markdown",
   "metadata": {},
   "source": [
    "# 1.3"
   ]
  },
  {
   "cell_type": "code",
   "execution_count": 10,
   "metadata": {},
   "outputs": [],
   "source": [
    "# Confusion Matrix\n",
    "#Prints out the Confusion Matrix and the Accuracy and returns the Confusion Matrix\n",
    "def confusion(X,alpha):\n",
    "    n=X.shape[0]\n",
    "    d=X.shape[1]-1\n",
    "    Xevaled = X[:,0:d].dot(alpha[0:d,0])+alpha[d,0]\n",
    "    C10=np.sum(np.logical_and([Xevaled>0.5],X[:,d]==0))\n",
    "    C00=np.sum(np.logical_and([Xevaled<0.5],X[:,d]==0))\n",
    "    C01=np.sum(np.logical_and([Xevaled<0.5],X[:,d]==1))\n",
    "    C11=np.sum(np.logical_and([Xevaled>0.5],X[:,d]==1))\n",
    "    C=[[C00,C01],[C10,C11]]\n",
    "    print(\"Confusion matrix: \", C)\n",
    "    print(\"accuracy: \" , np.trace(C)/n)\n",
    "    return(C)"
   ]
  },
  {
   "cell_type": "code",
   "execution_count": 11,
   "metadata": {
    "scrolled": true
   },
   "outputs": [
    {
     "name": "stdout",
     "output_type": "stream",
     "text": [
      "Confusion matrix:  [[76, 22], [24, 78]]\n",
      "accuracy:  0.77\n"
     ]
    },
    {
     "data": {
      "text/plain": [
       "[[76, 22], [24, 78]]"
      ]
     },
     "execution_count": 11,
     "metadata": {},
     "output_type": "execute_result"
    }
   ],
   "source": [
    "confusion(Data1,LLS(Data1))"
   ]
  },
  {
   "cell_type": "markdown",
   "metadata": {},
   "source": [
    "# 1.4"
   ]
  },
  {
   "cell_type": "code",
   "execution_count": 12,
   "metadata": {},
   "outputs": [
    {
     "name": "stdout",
     "output_type": "stream",
     "text": [
      "Confusion matrix:  [[7301, 2317], [2699, 7683]]\n",
      "accuracy:  0.7492\n"
     ]
    }
   ],
   "source": [
    "\n",
    "\n",
    "n = 10000 # number of samples\n",
    "\n",
    "#Create Random Data around sample from 1.1\n",
    "SampleSet = range(SampleSize)\n",
    "Indx = np.random.choice(SampleSet,2*n)\n",
    "eps1=np.random.multivariate_normal([0,0], 1/4*np.eye(2,2), n)\n",
    "eps2=np.random.multivariate_normal([0,0], 1/4*np.eye(2,2), n)\n",
    "x1= a[Indx[0:n]]+eps1\n",
    "x2= b[Indx[n:2*n]]+eps2\n",
    "\n",
    "#label Data\n",
    "x1= np.insert(x1,2,1,axis=1)\n",
    "x2= np.insert(x2,2,0,axis=1)\n",
    "Data2 = np.concatenate((x1,x2))\n",
    "\n",
    "alpha = LLS(Data2)\n",
    "\n",
    "C=confusion(Data2,alpha)"
   ]
  },
  {
   "cell_type": "markdown",
   "metadata": {},
   "source": [
    "# 1.5"
   ]
  },
  {
   "cell_type": "code",
   "execution_count": 13,
   "metadata": {},
   "outputs": [
    {
     "data": {
      "image/png": "[encoded data removed]",
      "text/plain": [
       "<Figure size 432x288 with 1 Axes>"
      ]
     },
     "metadata": {
      "needs_background": "light"
     },
     "output_type": "display_data"
    },
    {
     "name": "stdout",
     "output_type": "stream",
     "text": [
      "Confusion matrix:  [[50, 0], [0, 100]]\n",
      "accuracy:  1.0\n"
     ]
    },
    {
     "data": {
      "text/plain": [
       "[[50, 0], [0, 100]]"
      ]
     },
     "execution_count": 13,
     "metadata": {},
     "output_type": "execute_result"
    }
   ],
   "source": [
    "#load data\n",
    "url = 'https://archive.ics.uci.edu/ml/machine-learning-databases/iris/iris.data'\n",
    "irisDataFrame1 = pd.read_csv(url , header=None)\n",
    "\n",
    "#label Data (versicolor , virginica = 1, setosa = 0)\n",
    "irisDataFrame1['label'] = irisDataFrame1.iloc[:,4].isin(['Iris-versicolor','Iris-virginica']).astype(int)\n",
    "\n",
    "# plot based on 1st 2 attributes\n",
    "IrisArray1 = np.array(irisDataFrame1.loc[:,[0,1,'label']])\n",
    "conplot(IrisArray1)\n",
    "plt.show()\n",
    "\n",
    "# accuracy based on all attributes\n",
    "IrisArray2 = np.array(irisDataFrame1.loc[:,[0,1,2,3,'label']])\n",
    "confusion(IrisArray2,LLS(IrisArray2))"
   ]
  },
  {
   "cell_type": "markdown",
   "metadata": {},
   "source": [
    "# 1.6"
   ]
  },
  {
   "cell_type": "code",
   "execution_count": 98,
   "metadata": {
    "scrolled": true
   },
   "outputs": [],
   "source": [
    "def J(a,x,y):\n",
    "    n=x.shape[0]\n",
    "    return (1/n)*np.sum((x@a-y)**2)\n",
    "    \n",
    "def GradJ(a,x,y):\n",
    "    n=x.shape[0]\n",
    "    return (2/n)*np.sum((x.dot(a)-y)*x,axis=0).reshape(a.shape)\n",
    "\n",
    "def LLSGrad(X,nu,graph,a):\n",
    "    n = X.shape[0]\n",
    "    d = X.shape[1]\n",
    "    X = np.insert(X,d-1,1,axis=1) # add column of 1s for constant term\n",
    "    x = X[:,0:d] # dependent variable\n",
    "    y = X[:,d].reshape(n,1) # independent variable\n",
    "    \n",
    "    maxSteps=np.ceil(10/nu)\n",
    "    tol = 0.1\n",
    "    \n",
    "    step = 0\n",
    "    Vals = np.array([[step],[J(a,x,y)]])\n",
    "    while (np.sum(np.abs(GradJ(a,x,y)))>tol ) and (step < maxSteps):\n",
    "        a = a - nu * GradJ(a,x,y)\n",
    "        step = step + 1\n",
    "        if graph:\n",
    "            Vals=np.concatenate((Vals,np.array([[step],[J(a,x,y)]])),axis=1)\n",
    "        if(step==maxSteps):\n",
    "            return np.zeros(1)\n",
    "    if graph:                        \n",
    "        return Vals\n",
    "    return(a)\n"
   ]
  },
  {
   "cell_type": "code",
   "execution_count": 99,
   "metadata": {},
   "outputs": [
    {
     "data": {
      "image/png": "[encoded data removed]",
      "text/plain": [
       "<Figure size 432x288 with 1 Axes>"
      ]
     },
     "metadata": {
      "needs_background": "light"
     },
     "output_type": "display_data"
    }
   ],
   "source": [
    "nu=1 \n",
    "d = Data1.shape[1]\n",
    "a= np.random.rand(d).reshape(d,1)\n",
    "MaxNu=4\n",
    "count=0\n",
    "while (np.all(LLSGrad(Data1,nu,False,a))==np.array([0])) and (count < MaxNu):\n",
    "    nu=nu*0.1\n",
    "    count = count + 1\n",
    "if (count == MaxNu):\n",
    "    print('Failed to converge')\n",
    "else:\n",
    "    Vals = LLSGrad(Data1,nu,True,a)\n",
    "    plt.plot(Vals[0,:],Vals[1,:])\n",
    "    plt.show()"
   ]
  },
  {
   "cell_type": "markdown",
   "metadata": {},
   "source": [
    "# 1.7"
   ]
  },
  {
   "cell_type": "code",
   "execution_count": 104,
   "metadata": {},
   "outputs": [
    {
     "data": {
      "image/png": "[encoded data removed]",
      "text/plain": [
       "<Figure size 432x288 with 1 Axes>"
      ]
     },
     "metadata": {
      "needs_background": "light"
     },
     "output_type": "display_data"
    }
   ],
   "source": [
    "IrisMean = np.mean(IrisArray1[:,:2], 0)\n",
    "IrisSD = np.std(IrisArray1[:,:2],0)\n",
    "normIris = np.divide(np.subtract(IrisArray1[:,:2], IrisMean), IrisSD)\n",
    "y = np.array([IrisArray1[:,2]])\n",
    "normIris = np.concatenate((normIris, y.T), axis = 1)\n",
    "\n",
    "nu=1 \n",
    "d = normIris.shape[1]\n",
    "a= np.random.rand(d).reshape(d,1)\n",
    "MaxNu=4\n",
    "count=0\n",
    "while (np.all(LLSGrad(normIris,nu,False,a))==np.array([0]) or np.all(LLSGrad(IrisArray1,nu,False,a))==np.array([0])) and (count < MaxNu):\n",
    "    nu=nu*0.1\n",
    "    count = count + 1\n",
    "if (count == MaxNu):\n",
    "    print('Failed to converge')\n",
    "else:\n",
    "    ValsNorm = LLSGrad(normIris,nu,True,a)\n",
    "    Vals = LLSGrad(IrisArray1,nu,True,a)\n",
    "    plt.plot(Vals[0,1:100],Vals[1,1:100], label = 'unnormalised')\n",
    "    plt.plot(ValsNorm[0,1:100],ValsNorm[1,1:100], label = 'normalised')\n",
    "    plt.xlabel('iterations')\n",
    "    plt.ylabel('value of J')\n",
    "    plt.show()\n"
   ]
  },
  {
   "cell_type": "markdown",
   "metadata": {},
   "source": [
    "# 1.8"
   ]
  },
  {
   "cell_type": "code",
   "execution_count": 35,
   "metadata": {},
   "outputs": [],
   "source": [
    "#k nearest neighbours algorithm for X 'known' data and Y 'unknown'\n",
    "def nearNeigh(k,Y,X):\n",
    "    n = X.shape[0]\n",
    "    d = X.shape[1]\n",
    "    \n",
    "    eucDist = distance.cdist(Y,X[:,:-1])\n",
    "    \n",
    "    nearest = np.argpartition(eucDist,k,axis=1)[:,:k]\n",
    "    \n",
    "    avVal = np.zeros(Y.shape[0])\n",
    "    for i in range(Y.shape[0]):\n",
    "        avVal[i] = np.sum(X[nearest[i], d-1])\n",
    "        avVal[i] = avVal[i]/k\n",
    "    \n",
    "    return avVal"
   ]
  },
  {
   "cell_type": "code",
   "execution_count": 36,
   "metadata": {},
   "outputs": [],
   "source": [
    "# Confusion Matrix\n",
    "#Prints out the Confusion Matrix and the Accuracy and returns the Confusion Matrix\n",
    "def confusionkNN(X,Xevaled):\n",
    "    n=X.shape[0]\n",
    "    d=X.shape[1]-1\n",
    "    C10=np.sum(np.logical_and([Xevaled>0.5],X[:,d]==0))\n",
    "    C00=np.sum(np.logical_and([Xevaled<0.5],X[:,d]==0))\n",
    "    C01=np.sum(np.logical_and([Xevaled<0.5],X[:,d]==1))\n",
    "    C11=np.sum(np.logical_and([Xevaled>0.5],X[:,d]==1))\n",
    "    C=[[C00,C01],[C10,C11]]\n",
    "    print(\"Confusion matrix: \", C)\n",
    "    print(\"accuracy: \" , np.trace(C)/n)\n",
    "    return(C)"
   ]
  },
  {
   "cell_type": "code",
   "execution_count": 37,
   "metadata": {},
   "outputs": [
    {
     "name": "stdout",
     "output_type": "stream",
     "text": [
      "Confusion matrix:  [[100, 0], [0, 100]]\n",
      "accuracy:  1.0\n",
      "Confusion matrix:  [[74, 15], [26, 85]]\n",
      "accuracy:  0.795\n",
      "Confusion matrix:  [[69, 16], [27, 78]]\n",
      "accuracy:  0.735\n"
     ]
    },
    {
     "data": {
      "text/plain": [
       "[[69, 16], [27, 78]]"
      ]
     },
     "execution_count": 37,
     "metadata": {},
     "output_type": "execute_result"
    }
   ],
   "source": [
    "#running k N.N. for k=1,15,30 \n",
    "nearNeigh(1,Data1[:,:-1],Data1)\n",
    "confusionkNN(Data1, nearNeigh(1,Data1[:,:-1],Data1))\n",
    "nearNeigh(15,Data1[:,:-1],Data1)\n",
    "confusionkNN(Data1, nearNeigh(15,Data1[:,:-1],Data1))\n",
    "nearNeigh(30,Data1[:,:-1],Data1)\n",
    "confusionkNN(Data1, nearNeigh(30,Data1[:,:-1],Data1))"
   ]
  },
  {
   "cell_type": "code",
   "execution_count": 70,
   "metadata": {},
   "outputs": [],
   "source": [
    "#method to plot the contour of 1/2 for k nearest neighbours\n",
    "def plotkNNcon(X,k):\n",
    "    #Meshgrid\n",
    "    x_min, x_max = X[:, 0].min() - 1, X[:, 0].max() + 1\n",
    "    y_min, y_max = X[:, 1].min() - 1, X[:, 1].max() + 1\n",
    "    h = 0.01\n",
    "    xx, yy = np.meshgrid(np.arange(x_min, x_max, h),\n",
    "                     np.arange(y_min, y_max, h))\n",
    "    \n",
    "    #colour map for mesh grid (apologies for the ugly colours)\n",
    "    Z = nearNeigh(k,np.c_[xx.ravel(), yy.ravel()], X)\n",
    "    Z = Z.reshape(xx.shape)\n",
    "    Z = np.rint(Z)\n",
    "    plt.figure()\n",
    "    plt.pcolormesh(xx, yy, Z) \n",
    "    \n",
    "    # Plot\n",
    "    plt.scatter(X[:,0], X[:,1], c= X[:,2])\n",
    "    plt.plot(X[X[:,2]==1][:,0],X[X[:,2]==1][:,1],'go',X[X[:,2]==0][:,0],X[X[:,2]==0][:,1],'bo')\n",
    "    plt.title(\"k-nearest neighbours for k = %i\" %k )\n",
    "    plt.show()\n"
   ]
  },
  {
   "cell_type": "code",
   "execution_count": 72,
   "metadata": {},
   "outputs": [
    {
     "data": {
      "image/png": "[encoded data removed]",
      "text/plain": [
       "<Figure size 432x288 with 1 Axes>"
      ]
     },
     "metadata": {
      "needs_background": "light"
     },
     "output_type": "display_data"
    },
    {
     "data": {
      "image/png": "[encoded data removed]",
      "text/plain": [
       "<Figure size 432x288 with 1 Axes>"
      ]
     },
     "metadata": {
      "needs_background": "light"
     },
     "output_type": "display_data"
    },
    {
     "data": {
      "image/png": "[encoded data removed]",
      "text/plain": [
       "<Figure size 432x288 with 1 Axes>"
      ]
     },
     "metadata": {
      "needs_background": "light"
     },
     "output_type": "display_data"
    }
   ],
   "source": [
    "#plot the contour graph for k=1, 15, 30\n",
    "plotkNNcon(Data1, 1)\n",
    "plotkNNcon(Data1, 15)\n",
    "plotkNNcon(Data1, 30)"
   ]
  },
  {
   "cell_type": "markdown",
   "metadata": {},
   "source": [
    "# 1.9(a)"
   ]
  },
  {
   "cell_type": "code",
   "execution_count": 39,
   "metadata": {},
   "outputs": [
    {
     "name": "stdout",
     "output_type": "stream",
     "text": [
      "Confusion matrix:  [[100, 0], [0, 100]]\n",
      "accuracy:  1.0\n",
      "Confusion matrix:  [[79, 0], [0, 76]]\n",
      "accuracy:  0.775\n",
      "Confusion matrix:  [[88, 13], [12, 87]]\n",
      "accuracy:  0.875\n",
      "Confusion matrix:  [[68, 4], [7, 64]]\n",
      "accuracy:  0.66\n",
      "Confusion matrix:  [[79, 17], [21, 83]]\n",
      "accuracy:  0.81\n",
      "Confusion matrix:  [[64, 10], [8, 67]]\n",
      "accuracy:  0.655\n",
      "Confusion matrix:  [[78, 22], [22, 78]]\n",
      "accuracy:  0.78\n",
      "Confusion matrix:  [[69, 14], [12, 65]]\n",
      "accuracy:  0.67\n",
      "Confusion matrix:  [[83, 22], [17, 78]]\n",
      "accuracy:  0.805\n",
      "Confusion matrix:  [[72, 12], [13, 73]]\n",
      "accuracy:  0.725\n",
      "Confusion matrix:  [[77, 20], [23, 80]]\n",
      "accuracy:  0.785\n",
      "Confusion matrix:  [[71, 12], [17, 74]]\n",
      "accuracy:  0.725\n",
      "Confusion matrix:  [[74, 17], [26, 83]]\n",
      "accuracy:  0.785\n",
      "Confusion matrix:  [[73, 10], [19, 77]]\n",
      "accuracy:  0.75\n",
      "Confusion matrix:  [[74, 15], [26, 85]]\n",
      "accuracy:  0.795\n",
      "Confusion matrix:  [[70, 11], [21, 74]]\n",
      "accuracy:  0.72\n",
      "Confusion matrix:  [[71, 19], [29, 81]]\n",
      "accuracy:  0.76\n",
      "Confusion matrix:  [[70, 16], [27, 77]]\n",
      "accuracy:  0.735\n",
      "Confusion matrix:  [[72, 22], [28, 78]]\n",
      "accuracy:  0.75\n",
      "Confusion matrix:  [[70, 16], [25, 77]]\n",
      "accuracy:  0.735\n",
      "Confusion matrix:  [[72, 20], [28, 80]]\n",
      "accuracy:  0.76\n",
      "Confusion matrix:  [[70, 17], [25, 77]]\n",
      "accuracy:  0.735\n",
      "Confusion matrix:  [[71, 18], [29, 82]]\n",
      "accuracy:  0.765\n",
      "Confusion matrix:  [[69, 17], [24, 82]]\n",
      "accuracy:  0.755\n",
      "Confusion matrix:  [[72, 18], [28, 82]]\n",
      "accuracy:  0.77\n",
      "Confusion matrix:  [[70, 16], [26, 80]]\n",
      "accuracy:  0.75\n",
      "Confusion matrix:  [[72, 20], [28, 80]]\n",
      "accuracy:  0.76\n",
      "Confusion matrix:  [[69, 16], [25, 79]]\n",
      "accuracy:  0.74\n",
      "Confusion matrix:  [[73, 19], [27, 81]]\n",
      "accuracy:  0.77\n",
      "Confusion matrix:  [[69, 16], [27, 78]]\n",
      "accuracy:  0.735\n",
      "Confusion matrix:  [[72, 18], [28, 82]]\n",
      "accuracy:  0.77\n",
      "Confusion matrix:  [[68, 17], [27, 80]]\n",
      "accuracy:  0.74\n",
      "Confusion matrix:  [[70, 17], [30, 83]]\n",
      "accuracy:  0.765\n",
      "Confusion matrix:  [[67, 17], [27, 83]]\n",
      "accuracy:  0.75\n",
      "Confusion matrix:  [[70, 17], [30, 83]]\n",
      "accuracy:  0.765\n",
      "Confusion matrix:  [[68, 17], [28, 81]]\n",
      "accuracy:  0.745\n",
      "Confusion matrix:  [[71, 19], [29, 81]]\n",
      "accuracy:  0.76\n",
      "Confusion matrix:  [[69, 18], [27, 78]]\n",
      "accuracy:  0.735\n",
      "Confusion matrix:  [[73, 18], [27, 82]]\n",
      "accuracy:  0.775\n",
      "Confusion matrix:  [[72, 16], [27, 77]]\n",
      "accuracy:  0.745\n",
      "Confusion matrix:  [[72, 20], [28, 80]]\n",
      "accuracy:  0.76\n",
      "Confusion matrix:  [[71, 19], [27, 78]]\n",
      "accuracy:  0.745\n",
      "Confusion matrix:  [[72, 19], [28, 81]]\n",
      "accuracy:  0.765\n",
      "Confusion matrix:  [[72, 19], [27, 79]]\n",
      "accuracy:  0.755\n",
      "Confusion matrix:  [[72, 19], [28, 81]]\n",
      "accuracy:  0.765\n",
      "Confusion matrix:  [[72, 19], [25, 77]]\n",
      "accuracy:  0.745\n",
      "Confusion matrix:  [[75, 22], [25, 78]]\n",
      "accuracy:  0.765\n",
      "Confusion matrix:  [[72, 20], [25, 75]]\n",
      "accuracy:  0.735\n",
      "Confusion matrix:  [[74, 23], [26, 77]]\n",
      "accuracy:  0.755\n",
      "Confusion matrix:  [[72, 20], [25, 77]]\n",
      "accuracy:  0.745\n",
      "Confusion matrix:  [[74, 20], [26, 80]]\n",
      "accuracy:  0.77\n",
      "Confusion matrix:  [[73, 20], [24, 80]]\n",
      "accuracy:  0.765\n",
      "Confusion matrix:  [[75, 20], [25, 80]]\n",
      "accuracy:  0.775\n",
      "Confusion matrix:  [[73, 20], [23, 79]]\n",
      "accuracy:  0.76\n",
      "Confusion matrix:  [[74, 21], [26, 79]]\n",
      "accuracy:  0.765\n",
      "Confusion matrix:  [[73, 18], [23, 77]]\n",
      "accuracy:  0.75\n",
      "Confusion matrix:  [[77, 22], [23, 78]]\n",
      "accuracy:  0.775\n",
      "Confusion matrix:  [[73, 21], [22, 74]]\n",
      "accuracy:  0.735\n",
      "Confusion matrix:  [[76, 25], [24, 75]]\n",
      "accuracy:  0.755\n",
      "Confusion matrix:  [[74, 24], [23, 75]]\n",
      "accuracy:  0.745\n",
      "Confusion matrix:  [[75, 25], [25, 75]]\n",
      "accuracy:  0.75\n",
      "Confusion matrix:  [[72, 24], [23, 75]]\n",
      "accuracy:  0.735\n",
      "Confusion matrix:  [[76, 25], [24, 75]]\n",
      "accuracy:  0.755\n",
      "Confusion matrix:  [[72, 22], [24, 73]]\n",
      "accuracy:  0.725\n",
      "Confusion matrix:  [[74, 24], [26, 76]]\n",
      "accuracy:  0.75\n",
      "Confusion matrix:  [[73, 24], [25, 75]]\n",
      "accuracy:  0.74\n",
      "Confusion matrix:  [[75, 24], [25, 76]]\n",
      "accuracy:  0.755\n",
      "Confusion matrix:  [[75, 24], [25, 74]]\n",
      "accuracy:  0.745\n",
      "Confusion matrix:  [[75, 25], [25, 75]]\n",
      "accuracy:  0.75\n",
      "Confusion matrix:  [[74, 25], [25, 75]]\n",
      "accuracy:  0.745\n",
      "Confusion matrix:  [[74, 25], [26, 75]]\n",
      "accuracy:  0.745\n",
      "Confusion matrix:  [[74, 24], [26, 75]]\n",
      "accuracy:  0.745\n",
      "Confusion matrix:  [[74, 25], [26, 75]]\n",
      "accuracy:  0.745\n",
      "Confusion matrix:  [[73, 24], [25, 73]]\n",
      "accuracy:  0.73\n",
      "Confusion matrix:  [[73, 25], [27, 75]]\n",
      "accuracy:  0.74\n",
      "Confusion matrix:  [[73, 25], [26, 74]]\n",
      "accuracy:  0.735\n",
      "Confusion matrix:  [[74, 26], [26, 74]]\n",
      "accuracy:  0.74\n",
      "Confusion matrix:  [[74, 25], [25, 72]]\n",
      "accuracy:  0.73\n",
      "Confusion matrix:  [[75, 27], [25, 73]]\n",
      "accuracy:  0.74\n",
      "Confusion matrix:  [[74, 25], [24, 73]]\n",
      "accuracy:  0.735\n",
      "Confusion matrix:  [[75, 25], [25, 75]]\n",
      "accuracy:  0.75\n",
      "Confusion matrix:  [[75, 24], [23, 73]]\n",
      "accuracy:  0.74\n",
      "Confusion matrix:  [[75, 25], [25, 75]]\n",
      "accuracy:  0.75\n",
      "Confusion matrix:  [[75, 25], [25, 74]]\n",
      "accuracy:  0.745\n",
      "Confusion matrix:  [[75, 25], [25, 75]]\n",
      "accuracy:  0.75\n",
      "Confusion matrix:  [[75, 23], [24, 73]]\n",
      "accuracy:  0.74\n",
      "Confusion matrix:  [[76, 25], [24, 75]]\n",
      "accuracy:  0.755\n",
      "Confusion matrix:  [[75, 22], [24, 72]]\n",
      "accuracy:  0.735\n",
      "Confusion matrix:  [[75, 24], [25, 76]]\n",
      "accuracy:  0.755\n",
      "Confusion matrix:  [[74, 23], [25, 74]]\n",
      "accuracy:  0.74\n",
      "Confusion matrix:  [[75, 24], [25, 76]]\n",
      "accuracy:  0.755\n",
      "Confusion matrix:  [[74, 22], [24, 76]]\n",
      "accuracy:  0.75\n",
      "Confusion matrix:  [[74, 22], [26, 78]]\n",
      "accuracy:  0.76\n",
      "Confusion matrix:  [[74, 22], [25, 74]]\n",
      "accuracy:  0.74\n",
      "Confusion matrix:  [[74, 25], [26, 75]]\n",
      "accuracy:  0.745\n",
      "Confusion matrix:  [[74, 25], [24, 74]]\n",
      "accuracy:  0.74\n",
      "Confusion matrix:  [[75, 25], [25, 75]]\n",
      "accuracy:  0.75\n",
      "Confusion matrix:  [[74, 25], [24, 74]]\n",
      "accuracy:  0.74\n",
      "Confusion matrix:  [[76, 26], [24, 74]]\n",
      "accuracy:  0.75\n",
      "Confusion matrix:  [[75, 25], [24, 71]]\n",
      "accuracy:  0.73\n",
      "Confusion matrix:  [[76, 26], [24, 74]]\n",
      "accuracy:  0.75\n",
      "Confusion matrix:  [[76, 26], [24, 71]]\n",
      "accuracy:  0.735\n",
      "Confusion matrix:  [[76, 28], [24, 72]]\n",
      "accuracy:  0.74\n",
      "Confusion matrix:  [[76, 27], [24, 70]]\n",
      "accuracy:  0.73\n",
      "Confusion matrix:  [[76, 29], [24, 71]]\n",
      "accuracy:  0.735\n",
      "Confusion matrix:  [[76, 29], [24, 70]]\n",
      "accuracy:  0.73\n",
      "Confusion matrix:  [[76, 30], [24, 70]]\n",
      "accuracy:  0.73\n",
      "Confusion matrix:  [[76, 29], [24, 70]]\n",
      "accuracy:  0.73\n",
      "Confusion matrix:  [[76, 30], [24, 70]]\n",
      "accuracy:  0.73\n",
      "Confusion matrix:  [[75, 29], [23, 70]]\n",
      "accuracy:  0.725\n",
      "Confusion matrix:  [[76, 29], [24, 71]]\n",
      "accuracy:  0.735\n",
      "Confusion matrix:  [[76, 29], [23, 71]]\n",
      "accuracy:  0.735\n",
      "Confusion matrix:  [[76, 29], [24, 71]]\n",
      "accuracy:  0.735\n",
      "Confusion matrix:  [[76, 29], [24, 71]]\n",
      "accuracy:  0.735\n",
      "Confusion matrix:  [[76, 29], [24, 71]]\n",
      "accuracy:  0.735\n",
      "Confusion matrix:  [[76, 29], [23, 70]]\n",
      "accuracy:  0.73\n",
      "Confusion matrix:  [[77, 30], [23, 70]]\n",
      "accuracy:  0.735\n",
      "Confusion matrix:  [[77, 29], [23, 70]]\n",
      "accuracy:  0.735\n",
      "Confusion matrix:  [[77, 29], [23, 71]]\n",
      "accuracy:  0.74\n",
      "Confusion matrix:  [[77, 29], [22, 70]]\n",
      "accuracy:  0.735\n",
      "Confusion matrix:  [[78, 29], [22, 71]]\n",
      "accuracy:  0.745\n",
      "Confusion matrix:  [[77, 28], [22, 70]]\n",
      "accuracy:  0.735\n",
      "Confusion matrix:  [[78, 29], [22, 71]]\n",
      "accuracy:  0.745\n",
      "Confusion matrix:  [[77, 27], [22, 69]]\n",
      "accuracy:  0.73\n",
      "Confusion matrix:  [[78, 27], [22, 73]]\n",
      "accuracy:  0.755\n",
      "Confusion matrix:  [[77, 26], [21, 72]]\n",
      "accuracy:  0.745\n",
      "Confusion matrix:  [[77, 27], [23, 73]]\n",
      "accuracy:  0.75\n",
      "Confusion matrix:  [[76, 26], [22, 72]]\n",
      "accuracy:  0.74\n",
      "Confusion matrix:  [[76, 27], [24, 73]]\n",
      "accuracy:  0.745\n",
      "Confusion matrix:  [[76, 25], [22, 72]]\n",
      "accuracy:  0.74\n",
      "Confusion matrix:  [[76, 27], [24, 73]]\n",
      "accuracy:  0.745\n",
      "Confusion matrix:  [[76, 26], [22, 72]]\n",
      "accuracy:  0.74\n",
      "Confusion matrix:  [[77, 28], [23, 72]]\n",
      "accuracy:  0.745\n",
      "Confusion matrix:  [[76, 27], [23, 70]]\n",
      "accuracy:  0.73\n",
      "Confusion matrix:  [[76, 27], [24, 73]]\n",
      "accuracy:  0.745\n",
      "Confusion matrix:  [[76, 25], [22, 71]]\n",
      "accuracy:  0.735\n",
      "Confusion matrix:  [[76, 25], [24, 75]]\n",
      "accuracy:  0.755\n",
      "Confusion matrix:  [[76, 25], [24, 74]]\n",
      "accuracy:  0.75\n",
      "Confusion matrix:  [[76, 25], [24, 75]]\n",
      "accuracy:  0.755\n",
      "Confusion matrix:  [[76, 25], [24, 74]]\n",
      "accuracy:  0.75\n",
      "Confusion matrix:  [[76, 25], [24, 75]]\n",
      "accuracy:  0.755\n",
      "Confusion matrix:  [[76, 25], [23, 74]]\n",
      "accuracy:  0.75\n",
      "Confusion matrix:  [[77, 25], [23, 75]]\n",
      "accuracy:  0.76\n",
      "Confusion matrix:  [[75, 25], [23, 74]]\n",
      "accuracy:  0.745\n",
      "Confusion matrix:  [[75, 26], [25, 74]]\n",
      "accuracy:  0.745\n",
      "Confusion matrix:  [[75, 25], [24, 74]]\n",
      "accuracy:  0.745\n",
      "Confusion matrix:  [[76, 25], [24, 75]]\n",
      "accuracy:  0.755\n",
      "Confusion matrix:  [[73, 25], [23, 75]]\n",
      "accuracy:  0.74\n",
      "Confusion matrix:  [[75, 25], [25, 75]]\n",
      "accuracy:  0.75\n",
      "Confusion matrix:  [[73, 25], [24, 75]]\n",
      "accuracy:  0.74\n",
      "Confusion matrix:  [[74, 25], [26, 75]]\n",
      "accuracy:  0.745\n",
      "Confusion matrix:  [[73, 25], [24, 75]]\n",
      "accuracy:  0.74\n",
      "Confusion matrix:  [[74, 25], [26, 75]]\n",
      "accuracy:  0.745\n",
      "Confusion matrix:  [[74, 25], [26, 75]]\n",
      "accuracy:  0.745\n",
      "Confusion matrix:  [[74, 25], [26, 75]]\n",
      "accuracy:  0.745\n",
      "Confusion matrix:  [[72, 25], [25, 75]]\n",
      "accuracy:  0.735\n",
      "Confusion matrix:  [[73, 25], [27, 75]]\n",
      "accuracy:  0.74\n"
     ]
    },
    {
     "name": "stdout",
     "output_type": "stream",
     "text": [
      "Confusion matrix:  [[73, 25], [26, 75]]\n",
      "accuracy:  0.74\n",
      "Confusion matrix:  [[74, 25], [26, 75]]\n",
      "accuracy:  0.745\n",
      "Confusion matrix:  [[72, 25], [23, 75]]\n",
      "accuracy:  0.735\n",
      "Confusion matrix:  [[73, 25], [27, 75]]\n",
      "accuracy:  0.74\n",
      "Confusion matrix:  [[72, 22], [24, 75]]\n",
      "accuracy:  0.735\n",
      "Confusion matrix:  [[73, 22], [27, 78]]\n",
      "accuracy:  0.755\n",
      "Confusion matrix:  [[69, 18], [27, 78]]\n",
      "accuracy:  0.735\n",
      "Confusion matrix:  [[70, 18], [30, 82]]\n",
      "accuracy:  0.76\n",
      "Confusion matrix:  [[67, 18], [30, 81]]\n",
      "accuracy:  0.74\n",
      "Confusion matrix:  [[67, 18], [33, 82]]\n",
      "accuracy:  0.745\n",
      "Confusion matrix:  [[67, 15], [32, 82]]\n",
      "accuracy:  0.745\n",
      "Confusion matrix:  [[67, 15], [33, 85]]\n",
      "accuracy:  0.76\n",
      "Confusion matrix:  [[66, 14], [33, 82]]\n",
      "accuracy:  0.74\n",
      "Confusion matrix:  [[67, 15], [33, 85]]\n",
      "accuracy:  0.76\n",
      "Confusion matrix:  [[64, 13], [33, 85]]\n",
      "accuracy:  0.745\n",
      "Confusion matrix:  [[64, 13], [36, 87]]\n",
      "accuracy:  0.755\n",
      "Confusion matrix:  [[64, 11], [35, 87]]\n",
      "accuracy:  0.755\n",
      "Confusion matrix:  [[64, 11], [36, 89]]\n",
      "accuracy:  0.765\n",
      "Confusion matrix:  [[63, 11], [36, 88]]\n",
      "accuracy:  0.755\n",
      "Confusion matrix:  [[63, 12], [37, 88]]\n",
      "accuracy:  0.755\n",
      "Confusion matrix:  [[63, 12], [37, 88]]\n",
      "accuracy:  0.755\n",
      "Confusion matrix:  [[63, 12], [37, 88]]\n",
      "accuracy:  0.755\n",
      "Confusion matrix:  [[63, 12], [36, 88]]\n",
      "accuracy:  0.755\n",
      "Confusion matrix:  [[63, 12], [37, 88]]\n",
      "accuracy:  0.755\n",
      "Confusion matrix:  [[62, 12], [36, 88]]\n",
      "accuracy:  0.75\n",
      "Confusion matrix:  [[62, 12], [38, 88]]\n",
      "accuracy:  0.75\n",
      "Confusion matrix:  [[60, 10], [36, 88]]\n",
      "accuracy:  0.74\n",
      "Confusion matrix:  [[63, 12], [37, 88]]\n",
      "accuracy:  0.755\n",
      "Confusion matrix:  [[61, 11], [36, 88]]\n",
      "accuracy:  0.745\n",
      "Confusion matrix:  [[62, 11], [38, 89]]\n",
      "accuracy:  0.755\n",
      "Confusion matrix:  [[60, 11], [36, 88]]\n",
      "accuracy:  0.74\n",
      "Confusion matrix:  [[63, 11], [37, 89]]\n",
      "accuracy:  0.76\n",
      "Confusion matrix:  [[58, 10], [37, 89]]\n",
      "accuracy:  0.735\n",
      "Confusion matrix:  [[59, 10], [41, 90]]\n",
      "accuracy:  0.745\n",
      "Confusion matrix:  [[56, 9], [41, 89]]\n",
      "accuracy:  0.725\n",
      "Confusion matrix:  [[56, 10], [44, 90]]\n",
      "accuracy:  0.73\n",
      "Confusion matrix:  [[53, 9], [43, 89]]\n",
      "accuracy:  0.71\n",
      "Confusion matrix:  [[53, 10], [47, 90]]\n",
      "accuracy:  0.715\n",
      "Confusion matrix:  [[53, 8], [40, 89]]\n",
      "accuracy:  0.71\n",
      "Confusion matrix:  [[55, 10], [45, 90]]\n",
      "accuracy:  0.725\n",
      "Confusion matrix:  [[53, 8], [35, 87]]\n",
      "accuracy:  0.7\n",
      "Confusion matrix:  [[61, 12], [39, 88]]\n",
      "accuracy:  0.745\n"
     ]
    }
   ],
   "source": [
    "accuracy1 = np.zeros(200)\n",
    "n = Data1.shape[0]\n",
    "for k in range(199):\n",
    "    C = confusionkNN(Data1, nearNeigh(k+1,Data1[:,:-1],Data1))\n",
    "    accuracy1[k]= np.trace(C)/n"
   ]
  },
  {
   "cell_type": "markdown",
   "metadata": {},
   "source": [
    "# 1.9(b)"
   ]
  },
  {
   "cell_type": "code",
   "execution_count": null,
   "metadata": {},
   "outputs": [
    {
     "name": "stdout",
     "output_type": "stream",
     "text": [
      "Confusion matrix:  [[6702, 3029], [3298, 6971]]\n",
      "accuracy:  0.68365\n",
      "Confusion matrix:  [[5468, 1492], [1914, 5426]]\n",
      "accuracy:  0.5447\n",
      "Confusion matrix:  [[6874, 2784], [3126, 7216]]\n",
      "accuracy:  0.7045\n",
      "Confusion matrix:  [[5735, 1543], [1801, 5882]]\n",
      "accuracy:  0.58085\n",
      "Confusion matrix:  [[7129, 2662], [2871, 7338]]\n",
      "accuracy:  0.72335\n",
      "Confusion matrix:  [[6131, 1460], [1935, 6136]]\n",
      "accuracy:  0.61335\n",
      "Confusion matrix:  [[7091, 2462], [2909, 7538]]\n",
      "accuracy:  0.73145\n",
      "Confusion matrix:  [[6422, 1601], [2028, 6421]]\n",
      "accuracy:  0.64215\n",
      "Confusion matrix:  [[7140, 2384], [2860, 7616]]\n",
      "accuracy:  0.7378\n",
      "Confusion matrix:  [[6524, 1615], [2152, 6741]]\n",
      "accuracy:  0.66325\n",
      "Confusion matrix:  [[7209, 2309], [2791, 7691]]\n",
      "accuracy:  0.745\n",
      "Confusion matrix:  [[6674, 1742], [2239, 7038]]\n",
      "accuracy:  0.6856\n",
      "Confusion matrix:  [[7165, 2193], [2835, 7807]]\n",
      "accuracy:  0.7486\n",
      "Confusion matrix:  [[6769, 1657], [2400, 7257]]\n",
      "accuracy:  0.7013\n",
      "Confusion matrix:  [[7136, 2078], [2864, 7922]]\n",
      "accuracy:  0.7529\n",
      "Confusion matrix:  [[6702, 1586], [2420, 7342]]\n",
      "accuracy:  0.7022\n",
      "Confusion matrix:  [[7143, 2004], [2857, 7996]]\n",
      "accuracy:  0.75695\n",
      "Confusion matrix:  [[6846, 1692], [2587, 7673]]\n",
      "accuracy:  0.72595\n",
      "Confusion matrix:  [[7177, 1986], [2823, 8014]]\n",
      "accuracy:  0.75955\n",
      "Confusion matrix:  [[6844, 1731], [2584, 7711]]\n",
      "accuracy:  0.72775\n",
      "Confusion matrix:  [[7146, 2004], [2854, 7996]]\n",
      "accuracy:  0.7571\n",
      "Confusion matrix:  [[6895, 1750], [2633, 7742]]\n",
      "accuracy:  0.73185\n",
      "Confusion matrix:  [[7086, 1955], [2914, 8045]]\n",
      "accuracy:  0.75655\n",
      "Confusion matrix:  [[6907, 1737], [2688, 7756]]\n",
      "accuracy:  0.73315\n",
      "Confusion matrix:  [[7099, 1970], [2901, 8030]]\n",
      "accuracy:  0.75645\n",
      "Confusion matrix:  [[6912, 1757], [2720, 7790]]\n",
      "accuracy:  0.7351\n",
      "Confusion matrix:  [[7060, 1936], [2940, 8064]]\n",
      "accuracy:  0.7562\n",
      "Confusion matrix:  [[6876, 1728], [2729, 7789]]\n",
      "accuracy:  0.73325\n",
      "Confusion matrix:  [[7064, 1941], [2936, 8059]]\n",
      "accuracy:  0.75615\n",
      "Confusion matrix:  [[6879, 1728], [2731, 7751]]\n",
      "accuracy:  0.7315\n",
      "Confusion matrix:  [[7054, 1963], [2946, 8037]]\n",
      "accuracy:  0.75455\n",
      "Confusion matrix:  [[6870, 1761], [2720, 7746]]\n",
      "accuracy:  0.7308\n",
      "Confusion matrix:  [[7081, 1987], [2919, 8013]]\n",
      "accuracy:  0.7547\n",
      "Confusion matrix:  [[6871, 1762], [2757, 7786]]\n",
      "accuracy:  0.73285\n",
      "Confusion matrix:  [[7069, 2000], [2931, 8000]]\n",
      "accuracy:  0.75345\n",
      "Confusion matrix:  [[6875, 1788], [2735, 7792]]\n",
      "accuracy:  0.73335\n",
      "Confusion matrix:  [[7097, 1994], [2903, 8006]]\n",
      "accuracy:  0.75515\n",
      "Confusion matrix:  [[6960, 1839], [2769, 7824]]\n",
      "accuracy:  0.7392\n",
      "Confusion matrix:  [[7120, 2040], [2880, 7960]]\n",
      "accuracy:  0.754\n",
      "Confusion matrix:  [[6983, 1856], [2709, 7756]]\n",
      "accuracy:  0.73695\n",
      "Confusion matrix:  [[7146, 2058], [2854, 7942]]\n",
      "accuracy:  0.7544\n",
      "Confusion matrix:  [[7010, 1894], [2723, 7761]]\n",
      "accuracy:  0.73855\n",
      "Confusion matrix:  [[7150, 2077], [2850, 7923]]\n",
      "accuracy:  0.75365\n",
      "Confusion matrix:  [[7021, 1920], [2722, 7773]]\n",
      "accuracy:  0.7397\n",
      "Confusion matrix:  [[7176, 2087], [2824, 7913]]\n",
      "accuracy:  0.75445\n",
      "Confusion matrix:  [[7099, 1979], [2708, 7708]]\n",
      "accuracy:  0.74035\n",
      "Confusion matrix:  [[7209, 2163], [2791, 7837]]\n",
      "accuracy:  0.7523\n",
      "Confusion matrix:  [[7139, 2051], [2677, 7650]]\n",
      "accuracy:  0.73945\n",
      "Confusion matrix:  [[7237, 2186], [2763, 7814]]\n",
      "accuracy:  0.75255\n",
      "Confusion matrix:  [[7108, 2045], [2652, 7632]]\n",
      "accuracy:  0.737\n",
      "Confusion matrix:  [[7220, 2201], [2780, 7799]]\n",
      "accuracy:  0.75095\n",
      "Confusion matrix:  [[7132, 2107], [2659, 7620]]\n",
      "accuracy:  0.7376\n",
      "Confusion matrix:  [[7248, 2246], [2752, 7754]]\n",
      "accuracy:  0.7501\n",
      "Confusion matrix:  [[7134, 2119], [2616, 7553]]\n",
      "accuracy:  0.73435\n",
      "Confusion matrix:  [[7278, 2312], [2722, 7688]]\n",
      "accuracy:  0.7483\n",
      "Confusion matrix:  [[7167, 2170], [2576, 7495]]\n",
      "accuracy:  0.7331\n",
      "Confusion matrix:  [[7328, 2375], [2672, 7625]]\n",
      "accuracy:  0.74765\n",
      "Confusion matrix:  [[7228, 2229], [2489, 7410]]\n",
      "accuracy:  0.7319\n",
      "Confusion matrix:  [[7412, 2445], [2588, 7555]]\n",
      "accuracy:  0.74835\n",
      "Confusion matrix:  [[7309, 2294], [2460, 7360]]\n",
      "accuracy:  0.73345\n",
      "Confusion matrix:  [[7435, 2485], [2565, 7515]]\n",
      "accuracy:  0.7475\n",
      "Confusion matrix:  [[7293, 2278], [2451, 7346]]\n",
      "accuracy:  0.73195\n",
      "Confusion matrix:  [[7423, 2491], [2577, 7509]]\n",
      "accuracy:  0.7466\n",
      "Confusion matrix:  [[7313, 2309], [2447, 7303]]\n",
      "accuracy:  0.7308\n",
      "Confusion matrix:  [[7453, 2555], [2547, 7445]]\n",
      "accuracy:  0.7449\n",
      "Confusion matrix:  [[7331, 2375], [2438, 7266]]\n",
      "accuracy:  0.72985\n",
      "Confusion matrix:  [[7458, 2581], [2542, 7419]]\n",
      "accuracy:  0.74385\n",
      "Confusion matrix:  [[7345, 2420], [2433, 7264]]\n",
      "accuracy:  0.73045\n",
      "Confusion matrix:  [[7447, 2577], [2553, 7423]]\n",
      "accuracy:  0.7435\n",
      "Confusion matrix:  [[7370, 2465], [2454, 7296]]\n",
      "accuracy:  0.7333\n",
      "Confusion matrix:  [[7452, 2574], [2548, 7426]]\n",
      "accuracy:  0.7439\n",
      "Confusion matrix:  [[7365, 2467], [2468, 7304]]\n",
      "accuracy:  0.73345\n",
      "Confusion matrix:  [[7464, 2586], [2536, 7414]]\n",
      "accuracy:  0.7439\n",
      "Confusion matrix:  [[7380, 2478], [2466, 7310]]\n",
      "accuracy:  0.7345\n",
      "Confusion matrix:  [[7476, 2592], [2524, 7408]]\n",
      "accuracy:  0.7442\n",
      "Confusion matrix:  [[7358, 2453], [2462, 7287]]\n",
      "accuracy:  0.73225\n",
      "Confusion matrix:  [[7457, 2589], [2543, 7411]]\n",
      "accuracy:  0.7434\n",
      "Confusion matrix:  [[7366, 2440], [2451, 7264]]\n",
      "accuracy:  0.7315\n",
      "Confusion matrix:  [[7444, 2588], [2556, 7412]]\n",
      "accuracy:  0.7428\n",
      "Confusion matrix:  [[7373, 2477], [2455, 7233]]\n",
      "accuracy:  0.7303\n",
      "Confusion matrix:  [[7435, 2603], [2565, 7397]]\n",
      "accuracy:  0.7416\n",
      "Confusion matrix:  [[7363, 2495], [2474, 7244]]\n",
      "accuracy:  0.73035\n",
      "Confusion matrix:  [[7462, 2655], [2538, 7345]]\n",
      "accuracy:  0.74035\n",
      "Confusion matrix:  [[7405, 2567], [2484, 7266]]\n",
      "accuracy:  0.73355\n",
      "Confusion matrix:  [[7465, 2661], [2535, 7339]]\n",
      "accuracy:  0.7402\n",
      "Confusion matrix:  [[7410, 2533], [2461, 7210]]\n",
      "accuracy:  0.731\n",
      "Confusion matrix:  [[7482, 2674], [2518, 7326]]\n",
      "accuracy:  0.7404\n",
      "Confusion matrix:  [[7397, 2544], [2454, 7208]]\n",
      "accuracy:  0.73025\n",
      "Confusion matrix:  [[7478, 2653], [2522, 7347]]\n",
      "accuracy:  0.74125\n",
      "Confusion matrix:  [[7392, 2526], [2444, 7224]]\n",
      "accuracy:  0.7308\n",
      "Confusion matrix:  [[7479, 2652], [2521, 7348]]\n",
      "accuracy:  0.74135\n",
      "Confusion matrix:  [[7382, 2522], [2456, 7236]]\n",
      "accuracy:  0.7309\n",
      "Confusion matrix:  [[7441, 2620], [2559, 7380]]\n",
      "accuracy:  0.74105\n",
      "Confusion matrix:  [[7409, 2558], [2471, 7243]]\n",
      "accuracy:  0.7326\n",
      "Confusion matrix:  [[7475, 2672], [2525, 7328]]\n",
      "accuracy:  0.74015\n",
      "Confusion matrix:  [[7422, 2591], [2469, 7222]]\n",
      "accuracy:  0.7322\n",
      "Confusion matrix:  [[7480, 2692], [2520, 7308]]\n",
      "accuracy:  0.7394\n",
      "Confusion matrix:  [[7413, 2597], [2449, 7202]]\n",
      "accuracy:  0.73075\n",
      "Confusion matrix:  [[7496, 2716], [2504, 7284]]\n",
      "accuracy:  0.739\n",
      "Confusion matrix:  [[7445, 2640], [2428, 7188]]\n",
      "accuracy:  0.73165\n",
      "Confusion matrix:  [[7512, 2724], [2488, 7276]]\n",
      "accuracy:  0.7394\n",
      "Confusion matrix:  [[7459, 2663], [2417, 7155]]\n",
      "accuracy:  0.7307\n",
      "Confusion matrix:  [[7539, 2765], [2461, 7235]]\n",
      "accuracy:  0.7387\n",
      "Confusion matrix:  [[7508, 2715], [2387, 7105]]\n",
      "accuracy:  0.73065\n",
      "Confusion matrix:  [[7575, 2820], [2425, 7180]]\n",
      "accuracy:  0.73775\n",
      "Confusion matrix:  [[7553, 2785], [2374, 7091]]\n",
      "accuracy:  0.7322\n",
      "Confusion matrix:  [[7601, 2859], [2399, 7141]]\n",
      "accuracy:  0.7371\n",
      "Confusion matrix:  [[7562, 2818], [2354, 7064]]\n",
      "accuracy:  0.7313\n",
      "Confusion matrix:  [[7616, 2890], [2384, 7110]]\n",
      "accuracy:  0.7363\n",
      "Confusion matrix:  [[7555, 2812], [2356, 7067]]\n",
      "accuracy:  0.7311\n",
      "Confusion matrix:  [[7601, 2864], [2399, 7136]]\n",
      "accuracy:  0.73685\n",
      "Confusion matrix:  [[7561, 2813], [2345, 7057]]\n",
      "accuracy:  0.7309\n",
      "Confusion matrix:  [[7609, 2874], [2391, 7126]]\n",
      "accuracy:  0.73675\n",
      "Confusion matrix:  [[7579, 2834], [2356, 7062]]\n",
      "accuracy:  0.73205\n",
      "Confusion matrix:  [[7621, 2898], [2379, 7102]]\n",
      "accuracy:  0.73615\n",
      "Confusion matrix:  [[7598, 2863], [2343, 7036]]\n",
      "accuracy:  0.7317\n",
      "Confusion matrix:  [[7638, 2931], [2362, 7069]]\n",
      "accuracy:  0.73535\n",
      "Confusion matrix:  [[7611, 2881], [2331, 7024]]\n",
      "accuracy:  0.73175\n",
      "Confusion matrix:  [[7641, 2929], [2359, 7071]]\n",
      "accuracy:  0.7356\n",
      "Confusion matrix:  [[7600, 2873], [2319, 6996]]\n",
      "accuracy:  0.7298\n",
      "Confusion matrix:  [[7647, 2949], [2353, 7051]]\n",
      "accuracy:  0.7349\n",
      "Confusion matrix:  [[7605, 2867], [2323, 6991]]\n",
      "accuracy:  0.7298\n"
     ]
    }
   ],
   "source": [
    "accuracy2 = np.zeros(200)\n",
    "n = Data2.shape[0]\n",
    "for k in range(199):\n",
    "    C = confusionkNN(Data2, nearNeigh(k+1,Data2[:,:-1],Data1))\n",
    "    accuracy2[k]= np.trace(C)/n"
   ]
  },
  {
   "cell_type": "markdown",
   "metadata": {},
   "source": [
    "# 1.9(c)"
   ]
  },
  {
   "cell_type": "code",
   "execution_count": 80,
   "metadata": {},
   "outputs": [],
   "source": [
    "#plot the accuracy against k for nearest neighbours\n",
    "def accplot(accuracy, colour):\n",
    "    y = accuracy\n",
    "    x = np.arange(1, y.size +1, 1)\n",
    "    area = np.pi*7\n",
    " \n",
    "    # Plot\n",
    "    plt.scatter(x, y, s=area, c=colour)\n",
    "    plt.xlabel('k')\n",
    "    plt.ylabel('accuracy')\n",
    "    plt.axis([0,201,np.amin(accuracy)-0.05,np.max(accuracy)+0.05])\n",
    "    plt.show()"
   ]
  },
  {
   "cell_type": "code",
   "execution_count": 81,
   "metadata": {},
   "outputs": [
    {
     "data": {
      "image/png": "[encoded data removed]",
      "text/plain": [
       "<Figure size 432x288 with 1 Axes>"
      ]
     },
     "metadata": {
      "needs_background": "light"
     },
     "output_type": "display_data"
    },
    {
     "data": {
      "image/png": "[encoded data removed]",
      "text/plain": [
       "<Figure size 432x288 with 1 Axes>"
      ]
     },
     "metadata": {
      "needs_background": "light"
     },
     "output_type": "display_data"
    }
   ],
   "source": [
    "accplot(accuracy1[:-1],'green')\n",
    "accplot(accuracy2[:-1],'magenta')"
   ]
  },
  {
   "cell_type": "code",
   "execution_count": null,
   "metadata": {},
   "outputs": [],
   "source": []
  }
 ],
 "metadata": {
  "kernelspec": {
   "display_name": "Python 3",
   "language": "python",
   "name": "python3"
  },
  "language_info": {
   "codemirror_mode": {
    "name": "ipython",
    "version": 3
   },
   "file_extension": ".py",
   "mimetype": "text/x-python",
   "name": "python",
   "nbconvert_exporter": "python",
   "pygments_lexer": "ipython3",
   "version": "3.7.3"
  }
 },
 "nbformat": 4,
 "nbformat_minor": 2
}

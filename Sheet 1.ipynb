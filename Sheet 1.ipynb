{
 "cells": [
  {
   "cell_type": "code",
   "execution_count": 572,
   "metadata": {
    "collapsed": true
   },
   "outputs": [],
   "source": [
    "import numpy as np\n",
    "import matplotlib.pyplot as plt\n",
    "import time\n",
    "import pandas as pd"
   ]
  },
  {
   "cell_type": "markdown",
   "metadata": {},
   "source": [
    "# 1.0"
   ]
  },
  {
   "cell_type": "code",
   "execution_count": 573,
   "metadata": {
    "collapsed": true
   },
   "outputs": [],
   "source": [
    "SampleSet = range(3)\n",
    "SubSeq = np.array([2,0,1])\n",
    "n = 10000\n",
    "z = np.random.choice(SampleSet,n)"
   ]
  },
  {
   "cell_type": "code",
   "execution_count": 574,
   "metadata": {},
   "outputs": [
    {
     "name": "stdout",
     "output_type": "stream",
     "text": [
      "runtime:  0.006996631622314453\n",
      "number of apparences of (2,0,1):  378\n"
     ]
    }
   ],
   "source": [
    "start = time.time()\n",
    "cnt = 0\n",
    "for i in range(n-2):\n",
    "    if z[i]==2 and z[i+1]==0 and z[i+2]==1:\n",
    "        cnt=cnt+1\n",
    "end= time.time()\n",
    "print('runtime: ' ,end-start)\n",
    "print('number of apparences of (2,0,1): ',cnt)"
   ]
  },
  {
   "cell_type": "code",
   "execution_count": 575,
   "metadata": {},
   "outputs": [
    {
     "name": "stdout",
     "output_type": "stream",
     "text": [
      "runtime:  0.0009992122650146484\n",
      "number of apparences of (2,0,1):  378\n"
     ]
    }
   ],
   "source": [
    "start = time.time()\n",
    "Shift1=np.roll(z,n-1)\n",
    "Shift2=np.roll(z,n-2)\n",
    "Shift1[n-1],Shift2[n-1],Shift2[n-2]=-99999,-99999,-99999\n",
    "ans=np.logical_and(Shift2==1,np.logical_and(z==2,Shift1==0))\n",
    "end= time.time()\n",
    "print('runtime: ' ,end-start)\n",
    "print('number of apparences of (2,0,1): ',cnt)"
   ]
  },
  {
   "cell_type": "markdown",
   "metadata": {},
   "source": [
    "# 1.1a"
   ]
  },
  {
   "cell_type": "code",
   "execution_count": 576,
   "metadata": {},
   "outputs": [
    {
     "data": {
      "image/png": "[encoded data removed]",
      "text/plain": [
       "<Figure size 432x288 with 1 Axes>"
      ]
     },
     "metadata": {},
     "output_type": "display_data"
    }
   ],
   "source": [
    "SampleSize = 10\n",
    "meana=np.array([1.5, 0])\n",
    "meanb= np.array([0,1.5])\n",
    "var=np.eye(2,2)\n",
    "a= np.random.multivariate_normal(meana, var, SampleSize)\n",
    "b= np.random.multivariate_normal(meanb, var, SampleSize)\n",
    "plt.plot(a[:,0],a[:,1],'ro')\n",
    "plt.plot(b[:,0],b[:,1],'bo')\n",
    "plt.show()"
   ]
  },
  {
   "cell_type": "markdown",
   "metadata": {},
   "source": [
    "# 1.1b"
   ]
  },
  {
   "cell_type": "code",
   "execution_count": 609,
   "metadata": {},
   "outputs": [
    {
     "name": "stdout",
     "output_type": "stream",
     "text": [
      "(100, 2)\n",
      "(100, 3)\n"
     ]
    },
    {
     "data": {
      "image/png": "[encoded data removed]",
      "text/plain": [
       "<Figure size 432x288 with 1 Axes>"
      ]
     },
     "metadata": {},
     "output_type": "display_data"
    }
   ],
   "source": [
    "SampleSet = range(10)\n",
    "n = 100\n",
    "Indx = np.random.choice(SampleSet,2*n)\n",
    "eps1=np.random.multivariate_normal([0,0], 1/4*np.eye(2,2), n)\n",
    "eps2=np.random.multivariate_normal([0,0], 1/4*np.eye(2,2), n)\n",
    "x1= a[Indx[0:n]]+eps1\n",
    "x2= b[Indx[n:2*n]]+eps2\n",
    "print(x1.shape)\n",
    "\n",
    "x1=np.insert(x1,2,1,axis=1)\n",
    "\n",
    "print(x1.shape)\n",
    "x2= np.insert(x2,2,0,axis=1)\n",
    "\n",
    "Data1 = np.concatenate((x1,x2))\n",
    "plt.plot(Data1[0:n,0],Data1[0:n,1],'ro',Data1[n:2*n,0],Data1[n:2*n,1],'bo')\n",
    "plt.show()"
   ]
  },
  {
   "cell_type": "markdown",
   "metadata": {},
   "source": [
    "# 1.2"
   ]
  },
  {
   "cell_type": "code",
   "execution_count": 610,
   "metadata": {
    "collapsed": true
   },
   "outputs": [],
   "source": [
    "# Solve LLS\n",
    "# returns coefficients for classifiying line a_0x_0 + ... + a_(d-1)x_(d-1) + a_d = 0.5\n",
    "def LLS(X): #X a (n,d) numpy array with d-1 dependent variables and 1 independent variable\n",
    "    n = X.shape[0]\n",
    "    d = X.shape[1]\n",
    "    X = np.insert(X,d-1,1,axis=1) # add column of 1s for constant term\n",
    "    x = X[:,0:d] # dependent variable\n",
    "    y = X[:,d] # independent variable\n",
    "    y=y.reshape(n,1)\n",
    "    c=x.T@x\n",
    "    return(np.linalg.solve(c,x.T@y)) "
   ]
  },
  {
   "cell_type": "code",
   "execution_count": 611,
   "metadata": {
    "collapsed": true
   },
   "outputs": [],
   "source": [
    "# Gives a scatter plot of labeled data with Sperating Hyperplane\n",
    "# Input should be a (n,3) matrix with the first 2 columns the dependent variables and the last column the dependent variable (should be 0s and 1s)\n",
    "def conplot(X):\n",
    "    alpha=LLS(X)\n",
    "    maxx = np.amax(X[:,0])\n",
    "    maxy = np.amax(X[:,1])\n",
    "    minx = np.amin(X[:,0])\n",
    "    miny = np.amin(X[:,1])\n",
    "    t = np.arange(minx-1, maxx+1, 0.1)\n",
    "    s = np.arange(miny-1, maxy+1, 0.1)\n",
    "    p,q = np.meshgrid(t, s, sparse=True)\n",
    "    z = alpha[1,0]*q+alpha[0,0]*p + alpha[2,0]\n",
    "    h = plt.contourf(t,s,z,[-99999,0.5,99999], colors=['blue','red'],alpha=0.5)\n",
    "    plt.plot(X[X[:,2]==1][:,0],X[X[:,2]==1][:,1],'ro',X[X[:,2]==0][:,0],X[X[:,2]==0][:,1],'bo')"
   ]
  },
  {
   "cell_type": "code",
   "execution_count": 612,
   "metadata": {},
   "outputs": [
    {
     "data": {
      "image/png": "[encoded data removed]",
      "text/plain": [
       "<Figure size 432x288 with 1 Axes>"
      ]
     },
     "metadata": {},
     "output_type": "display_data"
    }
   ],
   "source": [
    "conplot(Data1)\n",
    "plt.show()"
   ]
  },
  {
   "cell_type": "markdown",
   "metadata": {},
   "source": [
    "# 1.3"
   ]
  },
  {
   "cell_type": "code",
   "execution_count": 605,
   "metadata": {
    "collapsed": true
   },
   "outputs": [],
   "source": [
    "# Confusion Matrix\n",
    "#Prints out the Confusion Matrix and the Accuracy and returns the Confusion Matrix\n",
    "def confusion(X,alpha):\n",
    "    n=X.shape[0]\n",
    "    d=X.shape[1]-1\n",
    "    Xevaled = X[:,0:d].dot(alpha[0:d,0])+alpha[d,0]\n",
    "    C10=np.sum(np.logical_and([Xevaled>0.5],X[:,d]==0))\n",
    "    C00=np.sum(np.logical_and([Xevaled<0.5],X[:,d]==0))\n",
    "    C01=np.sum(np.logical_and([Xevaled<0.5],X[:,d]==1))\n",
    "    C11=np.sum(np.logical_and([Xevaled>0.5],X[:,d]==1))\n",
    "    C=[[C00,C01],[C10,C11]]\n",
    "    print(\"Confusion matrix: \", C)\n",
    "    print(\"accuracy: \" , np.trace(C)/n)\n",
    "    return(C)"
   ]
  },
  {
   "cell_type": "code",
   "execution_count": 626,
   "metadata": {
    "scrolled": true
   },
   "outputs": [
    {
     "name": "stdout",
     "output_type": "stream",
     "text": [
      "Confusion matrix:  [[85, 12], [15, 88]]\n",
      "accuracy:  0.865\n"
     ]
    },
    {
     "data": {
      "text/plain": [
       "[[85, 12], [15, 88]]"
      ]
     },
     "execution_count": 626,
     "metadata": {},
     "output_type": "execute_result"
    }
   ],
   "source": [
    "confusion(Data1,alpha)"
   ]
  },
  {
   "cell_type": "markdown",
   "metadata": {},
   "source": [
    "# 1.4"
   ]
  },
  {
   "cell_type": "code",
   "execution_count": 614,
   "metadata": {},
   "outputs": [
    {
     "name": "stdout",
     "output_type": "stream",
     "text": [
      "Confusion matrix:  [[80456, 12750], [19544, 87250]]\n",
      "accuracy:  0.83853\n"
     ]
    }
   ],
   "source": [
    "\n",
    "\n",
    "n = 100000 # number of samples\n",
    "\n",
    "#Create Random Data around sample from 1.1\n",
    "SampleSet = range(SampleSize)\n",
    "Indx = np.random.choice(SampleSet,2*n)\n",
    "eps1=np.random.multivariate_normal([0,0], 1/4*np.eye(2,2), n)\n",
    "eps2=np.random.multivariate_normal([0,0], 1/4*np.eye(2,2), n)\n",
    "x1= a[Indx[0:n]]+eps1\n",
    "x2= b[Indx[n:2*n]]+eps2\n",
    "\n",
    "#label Data\n",
    "x1= np.insert(x1,2,1,axis=1)\n",
    "x2= np.insert(x2,2,0,axis=1)\n",
    "Data2 = np.concatenate((x1,x2))\n",
    "\n",
    "alpha = LLS(Data2)\n",
    "\n",
    "C=confusion(Data2,alpha)"
   ]
  },
  {
   "cell_type": "markdown",
   "metadata": {},
   "source": [
    "# 1.5"
   ]
  },
  {
   "cell_type": "code",
   "execution_count": 639,
   "metadata": {},
   "outputs": [
    {
     "data": {
      "image/png": "[encoded data removed]",
      "text/plain": [
       "<Figure size 432x288 with 1 Axes>"
      ]
     },
     "metadata": {},
     "output_type": "display_data"
    },
    {
     "name": "stdout",
     "output_type": "stream",
     "text": [
      "Confusion matrix:  [[50, 0], [0, 100]]\n",
      "accuracy:  1.0\n"
     ]
    },
    {
     "data": {
      "text/plain": [
       "[[50, 0], [0, 100]]"
      ]
     },
     "execution_count": 639,
     "metadata": {},
     "output_type": "execute_result"
    }
   ],
   "source": [
    "#load data\n",
    "url = 'https://archive.ics.uci.edu/ml/machine-learning-databases/iris/iris.data'\n",
    "irisDataFrame1 = pd.read_csv(url , header=None)\n",
    "\n",
    "#label Data (versicolor , virginica = 1, setosa = 0)\n",
    "irisDataFrame1['label'] = irisDataFrame1.iloc[:,4].isin(['Iris-versicolor','Iris-virginica']).astype(int)\n",
    "\n",
    "# plot based on 1st 2 attributes\n",
    "IrisArray1 = np.array(irisDataFrame1.loc[:,[0,1,'label']])\n",
    "conplot(IrisArray1)\n",
    "plt.show(h)\n",
    "\n",
    "# accuracy based on all attributes\n",
    "IrisArray2 = np.array(irisDataFrame1.loc[:,[0,1,2,3,'label']])\n",
    "confusion(IrisArray2,LLS(IrisArray2))\n",
    "\n"
   ]
  },
  {
   "cell_type": "code",
   "execution_count": 644,
   "metadata": {},
   "outputs": [
    {
     "name": "stdout",
     "output_type": "stream",
     "text": [
      "Confusion matrix:  [[21, 12], [29, 88]]\n",
      "accuracy:  0.726666666667\n"
     ]
    },
    {
     "data": {
      "image/png": "[encoded data removed]",
      "text/plain": [
       "<Figure size 432x288 with 1 Axes>"
      ]
     },
     "metadata": {},
     "output_type": "display_data"
    },
    {
     "name": "stdout",
     "output_type": "stream",
     "text": [
      "Confusion matrix:  [[24, 14], [26, 86]]\n",
      "accuracy:  0.733333333333\n"
     ]
    },
    {
     "data": {
      "text/plain": [
       "[[24, 14], [26, 86]]"
      ]
     },
     "execution_count": 644,
     "metadata": {},
     "output_type": "execute_result"
    }
   ],
   "source": [
    "#load data\n",
    "url = 'https://archive.ics.uci.edu/ml/machine-learning-databases/iris/iris.data'\n",
    "irisDataFrame2 = pd.read_csv(url , header=None)\n",
    "\n",
    "#label Data (setosa , virginica = 1, versicolor = 0)\n",
    "irisDataFrame2['label'] = irisDataFrame2.iloc[:,4].isin(['Iris-setosa','Iris-virginica']).astype(int)\n",
    "\n",
    "# plot based on 1st 2 attributes\n",
    "IrisArray1 = np.array(irisDataFrame2.loc[:,[0,1,'label']])\n",
    "conplot(IrisArray1)\n",
    "confusion(IrisArray1,LLS(IrisArray1))\n",
    "plt.show()\n",
    "\n",
    "# accuracy based on all attributes\n",
    "IrisArray2 = np.array(irisDataFrame2.loc[:,[0,1,2,3,'label']])\n",
    "confusion(IrisArray2,LLS(IrisArray2))"
   ]
  },
  {
   "cell_type": "code",
   "execution_count": 709,
   "metadata": {},
   "outputs": [
    {
     "name": "stdout",
     "output_type": "stream",
     "text": [
      "[[ -3.30602230e-09]\n",
      " [ -3.22213606e-09]\n",
      " [  1.02621387e-08]]\n"
     ]
    }
   ],
   "source": [
    "def LLSGrad(X):\n",
    "    n = X.shape[0]\n",
    "    d = X.shape[1]\n",
    "    X = np.insert(X,d-1,1,axis=1) # add column of 1s for constant term\n",
    "    x = X[:,0:d] # dependent variable\n",
    "    y = X[:,d].reshape(n,1) # independent variable\n",
    "    \n",
    "    maxSteps=100\n",
    "    nu = 0.1\n",
    "    \n",
    "    a= np.random.rand(d).reshape(d,1)\n",
    "    step = 0\n",
    "    grad=(2/n)*np.sum((x.dot(a)-y)*x,axis=0).reshape(d,1)\n",
    "    while (np.abs(np.sum(J))>0.1 ) and (step < maxSteps):\n",
    "        grad=(2/n)*np.sum((x.dot(a)-y)*x,axis=0).reshape(d,1)\n",
    "        a = a - nu * grad\n",
    "        step = step + 1\n",
    "    return(a)\n",
    "\n",
    "print(LLS(Data1)-LLSGrad(Data1))"
   ]
  },
  {
   "cell_type": "code",
   "execution_count": null,
   "metadata": {
    "collapsed": true
   },
   "outputs": [],
   "source": []
  }
 ],
 "metadata": {
  "kernelspec": {
   "display_name": "Python 3",
   "language": "python",
   "name": "python3"
  },
  "language_info": {
   "codemirror_mode": {
    "name": "ipython",
    "version": 3
   },
   "file_extension": ".py",
   "mimetype": "text/x-python",
   "name": "python",
   "nbconvert_exporter": "python",
   "pygments_lexer": "ipython3",
   "version": "3.6.8"
  }
 },
 "nbformat": 4,
 "nbformat_minor": 2
}

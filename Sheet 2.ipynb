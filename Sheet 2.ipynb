{
 "cells": [
  {
   "cell_type": "code",
   "execution_count": 1,
   "metadata": {},
   "outputs": [],
   "source": [
    "import numpy as np\n",
    "import matplotlib.pyplot as plt"
   ]
  },
  {
   "cell_type": "markdown",
   "metadata": {},
   "source": [
    "# Task 2.1"
   ]
  },
  {
   "cell_type": "code",
   "execution_count": 21,
   "metadata": {},
   "outputs": [],
   "source": [
    "#defines function used in one step algorithm with function input a vector z\n",
    "def SVMfunc(z, x, y, beta, bias):\n",
    "    return (b + sum(beta[l]*y[l]*np.dot(z, x[l]) for l in range(len(beta))))"
   ]
  },
  {
   "cell_type": "code",
   "execution_count": 22,
   "metadata": {},
   "outputs": [],
   "source": [
    "def OneStep(i,j, x, y, beta, bias, C):\n",
    "    delta = y[i]*((SVMfunc(x[j], x, y, beta, bias)-y[j]) - (SVMfunc(x[i], x, y, beta, bias) - y[i]))\n",
    "    s = y[i]*y[j]\n",
    "    chi = np.dot(x[i],x[i]) + np.dot(x[j],x[j]) - 2*np.dot(x[i],x[j])\n",
    "    gamma = s*beta[i] + beta[j]\n",
    "    \n",
    "    if s==1:\n",
    "        L= max(0, gamma -1*C)\n",
    "        H = min(gamma, C)\n",
    "    \n",
    "    else:\n",
    "        L = max(0, -1*gamma)\n",
    "        H = min(C, C-gamma)\n",
    "    \n",
    "    if chi>0:\n",
    "        beta[i] = min(max(beta[i] + delta/chi, L), H)\n",
    "    elif delta > 0:\n",
    "        beta_new[i] = L\n",
    "    else:\n",
    "        beta[i] = H\n",
    "    beta[j] = gamma - s * beta[i]\n",
    "    bias = bias - 0.5 * (SVMfunc(x[j], x, y, beta, bias) - y[j] + SVMfunc(x[i], x, y, beta, bias) - y[i])\n",
    "    return (beta, bias)\n",
    "        "
   ]
  },
  {
   "cell_type": "markdown",
   "metadata": {},
   "source": [
    "# Task 2.2"
   ]
  },
  {
   "cell_type": "code",
   "execution_count": 26,
   "metadata": {},
   "outputs": [],
   "source": [
    "#draws \n",
    "def expTestData(SampleSize, scale1, scale2):\n",
    "    #draw SampleSize by 2 points according to exp distribution with lambda =4,0.5 resp.\n",
    "    x1 = np.random.exponential(scale=scale1, size = (SampleSize,2))\n",
    "    x2 = np.random.exponential(scale=scale2, size = (SampleSize,2))\n",
    "\n",
    "    #label points in x1 by -1 and points in x2 by 1\n",
    "    y2 = np.ones(SampleSize)\n",
    "    y1 = np.full(SampleSize, -1)\n",
    "\n",
    "    #join all data points into x matrix and y matrix\n",
    "    x = np.concatenate((x1, x2), axis =0)\n",
    "    y = np.concatenate((y1, y2), axis=0)\n",
    "    \n",
    "    return(x,y)\n",
    "\n",
    "x, y = expTestData(20, 0.25, 2)"
   ]
  },
  {
   "cell_type": "markdown",
   "metadata": {},
   "source": [
    "# Task 2.3"
   ]
  },
  {
   "cell_type": "code",
   "execution_count": 24,
   "metadata": {},
   "outputs": [],
   "source": [
    "def SMO(x, y, iterations, C):\n",
    "    n = len(x)\n",
    "    beta = np.zeros(n)\n",
    "    b = 0\n",
    "    \n",
    "    for k in range(iterations):\n",
    "        #picks two non equal integers from 0 to n\n",
    "        i, j = np.random.choice(n, 2)\n",
    "        \n",
    "        #updates beta and bias according to onestep algorithm\n",
    "        beta, bias = OneStep(i,j, x, y, beta, bias, C)\n",
    "        \n"
   ]
  },
  {
   "cell_type": "markdown",
   "metadata": {},
   "source": [
    "# Task 2.4"
   ]
  },
  {
   "cell_type": "code",
   "execution_count": null,
   "metadata": {},
   "outputs": [],
   "source": [
    "x_testdata, y_testdata = expTestData(1000, )"
   ]
  }
 ],
 "metadata": {
  "kernelspec": {
   "display_name": "Python 3",
   "language": "python",
   "name": "python3"
  },
  "language_info": {
   "codemirror_mode": {
    "name": "ipython",
    "version": 3
   },
   "file_extension": ".py",
   "mimetype": "text/x-python",
   "name": "python",
   "nbconvert_exporter": "python",
   "pygments_lexer": "ipython3",
   "version": "3.7.3"
  }
 },
 "nbformat": 4,
 "nbformat_minor": 2
}

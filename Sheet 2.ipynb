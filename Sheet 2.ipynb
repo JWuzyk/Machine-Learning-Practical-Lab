{
 "cells": [
  {
   "cell_type": "code",
   "execution_count": 226,
   "metadata": {
    "collapsed": true
   },
   "outputs": [],
   "source": [
    "import numpy as np\n",
    "import matplotlib.pyplot as plt\n",
    "import matplotlib\n",
    "\n",
    "from sklearn import svm, metrics\n",
    "from sklearn.model_selection import GridSearchCV"
   ]
  },
  {
   "cell_type": "markdown",
   "metadata": {},
   "source": [
    "# Task 2.1"
   ]
  },
  {
   "cell_type": "code",
   "execution_count": 227,
   "metadata": {
    "collapsed": true
   },
   "outputs": [],
   "source": [
    "#defines function used in one step algorithm with function input a vector z\n",
    "def SVMfunc(z, x, y, beta, bias):\n",
    "    return bias + sum([beta[l]*y[l]*np.dot(z, x[l]) for l in range(len(beta))])\n",
    "\n",
    "def SVMfunc2(z, x, y, beta, bias):\n",
    "    ans=bias+(y*(z@x.T))@beta\n",
    "    return(ans)"
   ]
  },
  {
   "cell_type": "code",
   "execution_count": 228,
   "metadata": {
    "collapsed": true
   },
   "outputs": [],
   "source": [
    "def OneStep(i,j, x, y, beta, bias, C):\n",
    "    delta = y[i]*((SVMfunc(x[j], x, y, beta, bias)-y[j]) - (SVMfunc(x[i], x, y, beta, bias) - y[i]))\n",
    "    s = y[i]*y[j]\n",
    "    chi = np.dot(x[i],x[i]) + np.dot(x[j],x[j]) - 2*np.dot(x[i],x[j])\n",
    "    gamma = s*beta[i] + beta[j]\n",
    "    \n",
    "    if s==1:\n",
    "        L= max(0, gamma - C)\n",
    "        H = min(gamma, C)\n",
    "    \n",
    "    else:\n",
    "        L = max(0, -1*gamma)\n",
    "        H = min(C, C-gamma)\n",
    "    \n",
    "    if chi>0:\n",
    "        beta[i] = min(max(beta[i] + delta/chi, L), H)\n",
    "    elif delta > 0:\n",
    "        beta[i] = L\n",
    "    else:\n",
    "        beta[i] = H\n",
    "    beta[j] = gamma - s * beta[i]\n",
    "    bias = bias - 0.5 * (SVMfunc(x[j], x, y, beta, bias) - y[j] + SVMfunc(x[i], x, y, beta, bias) - y[i])\n",
    "    return (beta, bias)\n",
    "        "
   ]
  },
  {
   "cell_type": "markdown",
   "metadata": {},
   "source": [
    "# Task 2.2"
   ]
  },
  {
   "cell_type": "code",
   "execution_count": 229,
   "metadata": {
    "collapsed": true
   },
   "outputs": [],
   "source": [
    "#draws test data according to exponential distribution and labels scale1 points with -1 and scale 2 points with 1\n",
    "def expTestData(SampleSize, scale1, scale2):\n",
    "    #draw SampleSize by 2 points according to exp distribution with lambda =4,0.5 resp.\n",
    "    x1 = np.random.exponential(scale=scale1, size = (SampleSize,2))\n",
    "    x2 = np.random.exponential(scale=scale2, size = (SampleSize,2))\n",
    "\n",
    "    #label points in x1 by -1 and points in x2 by 1\n",
    "    y2 = np.ones(SampleSize)\n",
    "    y1 = np.full(SampleSize, -1)\n",
    "\n",
    "    #join all data points into x matrix and y matrix\n",
    "    x = np.concatenate((x1, x2), axis =0)\n",
    "    y = np.concatenate((y1, y2), axis=0)\n",
    "    \n",
    "    return(x,y)\n",
    "\n",
    "x_train, y_train = expTestData(20, 0.25, 2)"
   ]
  },
  {
   "cell_type": "markdown",
   "metadata": {},
   "source": [
    "# Task 2.3"
   ]
  },
  {
   "cell_type": "code",
   "execution_count": 230,
   "metadata": {
    "collapsed": true
   },
   "outputs": [],
   "source": [
    "#SMO algorithm from part (a)\n",
    "def SMO(x, y, iterations, C):\n",
    "    n = len(x)\n",
    "    beta = np.zeros(n)\n",
    "    bias = 0\n",
    "    \n",
    "    for k in range(iterations):\n",
    "        #picks two non equal integers from 0 to n\n",
    "        i, j = np.random.choice(n, 2)\n",
    "        \n",
    "        #updates beta and bias according to onestep algorithm\n",
    "        beta, bias = OneStep(i,j, x, y, beta, bias, C)\n",
    "\n",
    "    s=(SVMfunc2(x,x,y,beta,bias)-y)[beta!=0]\n",
    "    bias=bias-np.median(s)\n",
    "    \n",
    "    return(beta, bias)"
   ]
  },
  {
   "cell_type": "markdown",
   "metadata": {},
   "source": [
    "Running SMO algorithm for different values of C"
   ]
  },
  {
   "cell_type": "code",
   "execution_count": 231,
   "metadata": {
    "collapsed": true
   },
   "outputs": [],
   "source": [
    "#SMO run for C = 0.01\n",
    "beta1, bias1 =SMO(x_train, y_train, 10000, 0.01)\n",
    "\n",
    "#SMO run for C = 1\n",
    "beta2, bias2 =SMO(x_train, y_train, 10000, 1)\n",
    "\n",
    "#SMO run for C = 100\n",
    "beta3, bias3 =SMO(x_train, y_train, 10000, 100)"
   ]
  },
  {
   "cell_type": "markdown",
   "metadata": {},
   "source": [
    "Defining functions to help with contour plots"
   ]
  },
  {
   "cell_type": "code",
   "execution_count": 232,
   "metadata": {
    "collapsed": true
   },
   "outputs": [],
   "source": [
    "#Given a function func, gives the contour plot with hyperplane corresponding to func = value\n",
    "def conplot(func, value, maxx, minx, maxy, miny):\n",
    " \n",
    "    #create meshgrid using the given min and max x,y values\n",
    "    t = np.arange(minx-1, maxx+1, 0.1)\n",
    "    s = np.arange(miny-1, maxy+1, 0.1)\n",
    "    p,q = np.meshgrid(t, s)\n",
    "    \n",
    "    funcArgs = np.array([p.flatten(), q.flatten()]).T\n",
    "    r = func(funcArgs)\n",
    "    r= np.reshape(r, p.shape)\n",
    "    \n",
    "    plt.contourf(t,s,r,[-99999,value,99999], colors=['blue','red'],alpha=0.2)"
   ]
  },
  {
   "cell_type": "code",
   "execution_count": 233,
   "metadata": {
    "collapsed": true
   },
   "outputs": [],
   "source": [
    "def SMO_conplot(beta, C, func):\n",
    "    z1=x_train[beta>0]\n",
    "    print('number of support vectors is ', len(z1))\n",
    "    z2=x_train[np.logical_and(beta>0, beta1<C)]\n",
    "    print('number of margin vectors is ', len(z2))\n",
    "    \n",
    "    maxx = np.max(x_train[:,0])\n",
    "    maxy = np.max(x_train[:,1])\n",
    "    minx = np.min(x_train[:,0])\n",
    "    miny = np.min(x_train[:,1])\n",
    "\n",
    "    conplot(func, 0, maxx, minx, maxy, miny)\n",
    "    plt.scatter(z1[:,0], z1[:,1], label = 'support vectors', color = 'black', marker = 'D')\n",
    "    plt.scatter(x_train[:20,0], x_train[:20,1], label = '-1', alpha = 0.7)\n",
    "    plt.scatter(x_train[20:,0], x_train[20:,1], label = '1', color = 'red', alpha = 0.7)\n",
    "    plt.scatter(z2[:,0], z2[:,1], label = 'margin vectors', color = 'black', marker = 'x')\n",
    "    plt.legend()"
   ]
  },
  {
   "cell_type": "markdown",
   "metadata": {},
   "source": [
    "Showing contour plots for the different values of C"
   ]
  },
  {
   "cell_type": "code",
   "execution_count": 234,
   "metadata": {},
   "outputs": [
    {
     "name": "stdout",
     "output_type": "stream",
     "text": [
      "number of support vectors is  39\n",
      "number of margin vectors is  0\n"
     ]
    },
    {
     "data": {
      "image/png": "[encoded data removed]",
      "text/plain": [
       "<Figure size 432x288 with 1 Axes>"
      ]
     },
     "metadata": {
      "needs_background": "light"
     },
     "output_type": "display_data"
    }
   ],
   "source": [
    "#Gives hyperplane for C=0.01\n",
    "def funcPlot1(z):\n",
    "    return SVMfunc(z, x_train, y_train, beta1, bias1)\n",
    "\n",
    "SMO_conplot(beta1, 0.01, funcPlot1)"
   ]
  },
  {
   "cell_type": "code",
   "execution_count": 235,
   "metadata": {},
   "outputs": [
    {
     "name": "stdout",
     "output_type": "stream",
     "text": [
      "number of support vectors is  20\n",
      "number of margin vectors is  20\n"
     ]
    },
    {
     "data": {
      "image/png": "[encoded data removed]",
      "text/plain": [
       "<Figure size 432x288 with 1 Axes>"
      ]
     },
     "metadata": {
      "needs_background": "light"
     },
     "output_type": "display_data"
    }
   ],
   "source": [
    "#Gives hyperplane for C=1\n",
    "def funcPlot2(z):\n",
    "    return SVMfunc(z, x_train, y_train, beta2, bias2)\n",
    "\n",
    "SMO_conplot(beta2, 1, funcPlot2)"
   ]
  },
  {
   "cell_type": "code",
   "execution_count": 236,
   "metadata": {},
   "outputs": [
    {
     "name": "stdout",
     "output_type": "stream",
     "text": [
      "number of support vectors is  13\n",
      "number of margin vectors is  13\n"
     ]
    },
    {
     "data": {
      "image/png": "[encoded data removed]",
      "text/plain": [
       "<Figure size 432x288 with 1 Axes>"
      ]
     },
     "metadata": {
      "needs_background": "light"
     },
     "output_type": "display_data"
    }
   ],
   "source": [
    "#Gives hyperplane for C=100\n",
    "def funcPlot3(z):\n",
    "    return SVMfunc(z, x_train, y_train, beta3, bias3)\n",
    "\n",
    "SMO_conplot(beta3, 100, funcPlot3)"
   ]
  },
  {
   "cell_type": "code",
   "execution_count": 237,
   "metadata": {
    "collapsed": true
   },
   "outputs": [],
   "source": [
    "# Solve LLS (copied from Sheet 1)\n",
    "# returns coefficients for classifiying line a_0x_0 + ... + a_(d-1)x_(d-1) + a_d = 0.5\n",
    "def LLS(X): #X a (n,d) numpy array with d-1 dependent variables and 1 independent variable\n",
    "    n = X.shape[0]\n",
    "    d = X.shape[1]\n",
    "    X = np.insert(X,d-1,1,axis=1) # add column of 1s for constant term\n",
    "    x = X[:,0:d] # dependent variable\n",
    "    y = X[:,d] # independent variable\n",
    "    y=y.reshape(n,1)\n",
    "    c=x.T@x\n",
    "    return(np.linalg.solve(c,x.T@y)) "
   ]
  },
  {
   "cell_type": "code",
   "execution_count": 238,
   "metadata": {},
   "outputs": [
    {
     "data": {
      "text/plain": [
       "<matplotlib.legend.Legend at 0xbe6cb38>"
      ]
     },
     "execution_count": 238,
     "metadata": {},
     "output_type": "execute_result"
    },
    {
     "data": {
      "image/png": "[encoded data removed]",
      "text/plain": [
       "<Figure size 432x288 with 1 Axes>"
      ]
     },
     "metadata": {
      "needs_background": "light"
     },
     "output_type": "display_data"
    }
   ],
   "source": [
    "#run LLS on our data (must concatenate the x data with the y labels to use function)\n",
    "X = np.concatenate((x_train, y_train.reshape((len(y_train), 1))), axis = 1)\n",
    "alpha = LLS(X).flatten()\n",
    "\n",
    "#define LLS function to give to conplot\n",
    "def funcLLS(z):\n",
    "    return np.dot(z,alpha[:2].reshape((2,1)))\n",
    "\n",
    "maxx = np.max(x_train[:,0])\n",
    "maxy = np.max(x_train[:,1])\n",
    "minx = np.min(x_train[:,0])\n",
    "miny = np.min(x_train[:,1])\n",
    "\n",
    "conplot(funcLLS, 0.5, maxx, minx, maxy, miny)\n",
    "plt.scatter(x_train[:20,0], x_train[:20,1], label = '-1')\n",
    "plt.scatter(x_train[20:,0], x_train[20:,1], label = '1', color = 'red')\n",
    "plt.legend()"
   ]
  },
  {
   "cell_type": "markdown",
   "metadata": {},
   "source": [
    "As C grows the fit of the separating hyperplane becomes better. The number of margin vectors increase, where as the number of support vectors decrease. Comparing this to LLS, for larger C the SMO function gives a better fit than LLS."
   ]
  },
  {
   "cell_type": "markdown",
   "metadata": {},
   "source": [
    "# Task 2.4"
   ]
  },
  {
   "cell_type": "code",
   "execution_count": 245,
   "metadata": {
    "collapsed": true
   },
   "outputs": [],
   "source": [
    "x_testdata, y_testdata = expTestData(1000, 0.25, 2)"
   ]
  },
  {
   "cell_type": "code",
   "execution_count": 246,
   "metadata": {
    "collapsed": true
   },
   "outputs": [],
   "source": [
    "#function for confusion matrix and accuracy\n",
    "def confusion(y_real, y_guess):\n",
    "    C10=np.sum(np.logical_and([y_guess>0],y_real==-1))\n",
    "    C00=np.sum(np.logical_and([y_guess<=0],y_real==-1))\n",
    "    C01=np.sum(np.logical_and([y_guess<=0],y_real==1))\n",
    "    C11=np.sum(np.logical_and([y_guess>0],y_real==1))\n",
    "    C=[[C00,C01],[C10,C11]]\n",
    "    print(\"Confusion matrix: \", C)\n",
    "    print(\"accuracy: \" , np.trace(C)/len(y_real))\n",
    "    return(C)"
   ]
  },
  {
   "cell_type": "code",
   "execution_count": 248,
   "metadata": {},
   "outputs": [
    {
     "name": "stdout",
     "output_type": "stream",
     "text": [
      "Confusion matrix:  [[1000, 817], [0, 183]]\n",
      "accuracy:  0.5915\n"
     ]
    },
    {
     "data": {
      "text/plain": [
       "[[1000, 817], [0, 183]]"
      ]
     },
     "execution_count": 248,
     "metadata": {},
     "output_type": "execute_result"
    }
   ],
   "source": [
    "#confusion matrix and accuracy for C=0.01\n",
    "y_1 = funcPlot1(x_testdata)\n",
    "confusion(y_testdata, y_1)\n",
    "\n"
   ]
  },
  {
   "cell_type": "code",
   "execution_count": 249,
   "metadata": {},
   "outputs": [
    {
     "name": "stdout",
     "output_type": "stream",
     "text": [
      "Confusion matrix:  [[938, 129], [62, 871]]\n",
      "accuracy:  0.9045\n"
     ]
    },
    {
     "data": {
      "text/plain": [
       "[[938, 129], [62, 871]]"
      ]
     },
     "execution_count": 249,
     "metadata": {},
     "output_type": "execute_result"
    }
   ],
   "source": [
    "#confusion matrix and accuracy for C=1\n",
    "y_2 = funcPlot2(x_testdata)\n",
    "confusion(y_testdata, y_2)"
   ]
  },
  {
   "cell_type": "code",
   "execution_count": 252,
   "metadata": {},
   "outputs": [
    {
     "name": "stdout",
     "output_type": "stream",
     "text": [
      "Confusion matrix:  [[893, 85], [107, 915]]\n",
      "accuracy:  0.904\n"
     ]
    },
    {
     "data": {
      "text/plain": [
       "[[893, 85], [107, 915]]"
      ]
     },
     "execution_count": 252,
     "metadata": {},
     "output_type": "execute_result"
    }
   ],
   "source": [
    "#confusion matrix and accuracy for C=100\n",
    "y_3 = funcPlot3(x_testdata)\n",
    "confusion(y_testdata, y_3)"
   ]
  },
  {
   "cell_type": "code",
   "execution_count": 253,
   "metadata": {},
   "outputs": [
    {
     "name": "stdout",
     "output_type": "stream",
     "text": [
      "(2000, 3)\n",
      "Confusion matrix:  [[1000, 628], [0, 372]]\n",
      "accuracy:  0.686\n"
     ]
    }
   ],
   "source": [
    "#confusion matrix for LLS (copied from last sheet)\n",
    "X = np.concatenate((x_testdata, y_testdata.reshape((len(y_testdata), 1))), axis = 1)\n",
    "print(X.shape)\n",
    "alpha = LLS(X)\n",
    "\n",
    "n=X.shape[0]\n",
    "d=X.shape[1]-1\n",
    "Xevaled = X[:,0:d].dot(alpha[0:d,0])+alpha[d,0]\n",
    "C10=np.sum(np.logical_and([Xevaled>0.5],X[:,d]==-1))\n",
    "C00=np.sum(np.logical_and([Xevaled<0.5],X[:,d]==-1))\n",
    "C01=np.sum(np.logical_and([Xevaled<0.5],X[:,d]==1))\n",
    "C11=np.sum(np.logical_and([Xevaled>0.5],X[:,d]==1))\n",
    "C=[[C00,C01],[C10,C11]]\n",
    "print(\"Confusion matrix: \", C)\n",
    "print(\"accuracy: \" , np.trace(C)/n)"
   ]
  },
  {
   "cell_type": "markdown",
   "metadata": {},
   "source": [
    "# Task 2.5"
   ]
  },
  {
   "cell_type": "code",
   "execution_count": 254,
   "metadata": {
    "collapsed": true
   },
   "outputs": [],
   "source": [
    "def KKT(i, x, y, beta, C, bias):\n",
    "    return (C - beta[i])*max(0, 1 - y[i]*SVMfunc(x[i], x, y, beta, bias)) + beta[i]*max(0, y[i]*SVMfunc(x[i], x, y, beta, bias)-1)>0"
   ]
  },
  {
   "cell_type": "code",
   "execution_count": 255,
   "metadata": {
    "collapsed": true
   },
   "outputs": [],
   "source": [
    "def SMO_KKT(x, y, iterations, C):\n",
    "    n = len(x)\n",
    "    beta = np.zeros(n)\n",
    "    bias = 0\n",
    "    k=0\n",
    "    terminate = True\n",
    "    \n",
    "    #array of elements i such that KKT(i)>0\n",
    "    b = [i for i in range(n) if KKT(i, x, y, beta, C, bias)]\n",
    "    \n",
    "    #if there are no such elements, return false\n",
    "    if len(b)==0:\n",
    "        print('no i such that KKT(i)>0')\n",
    "        return false\n",
    "   \n",
    "    #array of elements j such that 0<beta[j]<c\n",
    "    a = np.arange(n)\n",
    "    c = a[np.logical_and(beta>0, beta<C)]\n",
    "    \n",
    "    #if no elements satisfy j condition above, then we allow any j from 0 to n\n",
    "    if len(c) == 0:\n",
    "        c = a\n",
    "        \n",
    "    while k < iterations:\n",
    "        terminate = True\n",
    "        for i in [l for l in range(n) if KKT(l, x, y, beta, C, bias)]:\n",
    "            #choose j either satisfiying 0<beta[j]<c or, if not possible, 1<j<n such that j!=i\n",
    "            j = np.random.choice(c[c!=i])\n",
    "            #updates beta and bias according to onestep algorithm\n",
    "            beta, bias = OneStep(i,j, x, y, beta, bias, C)\n",
    "            k=k+1\n",
    "            terminate = False\n",
    "        if terminate == True:\n",
    "            break\n",
    "\n",
    "    suppVecInd = np.array([SVMfunc(x[k], x, y, beta, bias) - y[k] for k in np.nonzero(beta)])\n",
    "    bias = bias - np.median(suppVecInd)\n",
    "    \n",
    "    return(beta, bias)"
   ]
  },
  {
   "cell_type": "code",
   "execution_count": 257,
   "metadata": {
    "collapsed": true
   },
   "outputs": [],
   "source": [
    "#SMO_KKT run for C = 0.01\n",
    "beta1, bias1 =SMO_KKT(x_train, y_train, 10000, 0.01)\n",
    "\n",
    "#SMO_KKT run for C = 1\n",
    "beta2, bias2 =SMO_KKT(x_train, y_train, 10000, 1)\n",
    "\n",
    "#SMO_KKT run for C = 100\n",
    "beta3, bias3 =SMO_KKT(x_train, y_train, 10000, 100)"
   ]
  },
  {
   "cell_type": "code",
   "execution_count": 258,
   "metadata": {
    "collapsed": true
   },
   "outputs": [],
   "source": [
    "def funcPlot1(z):\n",
    "    return SVMfunc(z, x_train, y_train, beta1, bias1)\n",
    "\n",
    "def funcPlot2(z):\n",
    "    return SVMfunc(z, x_train, y_train, beta2, bias2)\n",
    "\n",
    "def funcPlot3(z):\n",
    "    return SVMfunc(z, x_train, y_train, beta3, bias3)\n"
   ]
  },
  {
   "cell_type": "code",
   "execution_count": 259,
   "metadata": {},
   "outputs": [
    {
     "name": "stdout",
     "output_type": "stream",
     "text": [
      "number of support vectors is  40\n",
      "number of margin vectors is  0\n"
     ]
    },
    {
     "data": {
      "image/png": "[encoded data removed]",
      "text/plain": [
       "<Figure size 432x288 with 1 Axes>"
      ]
     },
     "metadata": {
      "needs_background": "light"
     },
     "output_type": "display_data"
    }
   ],
   "source": [
    "SMO_conplot(beta1, 0.01, funcPlot1)"
   ]
  },
  {
   "cell_type": "code",
   "execution_count": 260,
   "metadata": {},
   "outputs": [
    {
     "name": "stdout",
     "output_type": "stream",
     "text": [
      "number of support vectors is  20\n",
      "number of margin vectors is  20\n"
     ]
    },
    {
     "data": {
      "image/png": "[encoded data removed]",
      "text/plain": [
       "<Figure size 432x288 with 1 Axes>"
      ]
     },
     "metadata": {
      "needs_background": "light"
     },
     "output_type": "display_data"
    }
   ],
   "source": [
    "SMO_conplot(beta2, 1, funcPlot2)"
   ]
  },
  {
   "cell_type": "code",
   "execution_count": 261,
   "metadata": {},
   "outputs": [
    {
     "name": "stdout",
     "output_type": "stream",
     "text": [
      "number of support vectors is  17\n",
      "number of margin vectors is  17\n"
     ]
    },
    {
     "data": {
      "image/png": "[encoded data removed]",
      "text/plain": [
       "<Figure size 432x288 with 1 Axes>"
      ]
     },
     "metadata": {
      "needs_background": "light"
     },
     "output_type": "display_data"
    }
   ],
   "source": [
    "SMO_conplot(beta3, 100, funcPlot3)"
   ]
  },
  {
   "cell_type": "markdown",
   "metadata": {},
   "source": [
    "Confusion matrices and accuracy for different C's using KKT"
   ]
  },
  {
   "cell_type": "code",
   "execution_count": null,
   "metadata": {
    "collapsed": true
   },
   "outputs": [],
   "source": []
  },
  {
   "cell_type": "code",
   "execution_count": 262,
   "metadata": {},
   "outputs": [
    {
     "name": "stdout",
     "output_type": "stream",
     "text": [
      "Confusion matrix:  [[1000, 608], [0, 392]]\n",
      "accuracy:  0.696\n"
     ]
    },
    {
     "data": {
      "text/plain": [
       "[[1000, 608], [0, 392]]"
      ]
     },
     "execution_count": 262,
     "metadata": {},
     "output_type": "execute_result"
    }
   ],
   "source": [
    "#confusion matrix and accuracy for C=0.01\n",
    "y_1 = funcPlot1(x_testdata)\n",
    "confusion(y_testdata, y_1)"
   ]
  },
  {
   "cell_type": "code",
   "execution_count": 263,
   "metadata": {},
   "outputs": [
    {
     "name": "stdout",
     "output_type": "stream",
     "text": [
      "Confusion matrix:  [[942, 130], [58, 870]]\n",
      "accuracy:  0.906\n"
     ]
    },
    {
     "data": {
      "text/plain": [
       "[[942, 130], [58, 870]]"
      ]
     },
     "execution_count": 263,
     "metadata": {},
     "output_type": "execute_result"
    }
   ],
   "source": [
    "#confusion matrix and accuracy for C=1\n",
    "y_2 = funcPlot2(x_testdata)\n",
    "confusion(y_testdata, y_2)"
   ]
  },
  {
   "cell_type": "code",
   "execution_count": 264,
   "metadata": {},
   "outputs": [
    {
     "name": "stdout",
     "output_type": "stream",
     "text": [
      "Confusion matrix:  [[925, 117], [75, 883]]\n",
      "accuracy:  0.904\n"
     ]
    },
    {
     "data": {
      "text/plain": [
       "[[925, 117], [75, 883]]"
      ]
     },
     "execution_count": 264,
     "metadata": {},
     "output_type": "execute_result"
    }
   ],
   "source": [
    "#confusion matrix and accuracy for C=100\n",
    "y_3 = funcPlot3(x_testdata)\n",
    "confusion(y_testdata, y_3)"
   ]
  },
  {
   "cell_type": "markdown",
   "metadata": {},
   "source": [
    "Using the KKT algorithm instead of random i, j does not seem to change the accuracy of the results - sometimes using KKT is marginally better, sometimes marginally worse. The run time for random i,j was quicker."
   ]
  },
  {
   "cell_type": "markdown",
   "metadata": {},
   "source": [
    "# Task 2.6"
   ]
  },
  {
   "cell_type": "code",
   "execution_count": 215,
   "metadata": {
    "collapsed": true
   },
   "outputs": [],
   "source": [
    "def conplot(x,y,iterations,C):\n",
    "    beta,bias=SMO(x,y,iterations,C)\n",
    "    \n",
    "    maxx = np.amax(x[:,0])\n",
    "    maxy = np.amax(x[:,1])\n",
    "    minx = np.amin(x[:,0])\n",
    "    miny = np.amin(x[:,1])    \n",
    "    t = np.arange(minx-1, maxx+1, 0.1)\n",
    "    s = np.arange(miny-1, maxy+1, 0.1)\n",
    "    p,q = np.meshgrid(t, s)\n",
    "    z = SVMfunc2(np.stack((p,q), axis=2),x,y,beta,bias)\n",
    "    plt.contourf(t,s,z,[-99999,0,99999], colors=['blue','red'],alpha=0.5)\n",
    "    plt.plot(x[y==-1][:,0],x[y==-1][:,1],'bo',x[y==1][:,0],x[y==1][:,1],'ro')\n",
    "\n",
    "def conplot3(x,y,iterations,C):\n",
    "    beta,bias=SMO(x,y,iterations,C)\n",
    "    \n",
    "    maxx = np.amax(x[:,0])\n",
    "    maxy = np.amax(x[:,1])\n",
    "    minx = np.amin(x[:,0])\n",
    "    miny = np.amin(x[:,1])    \n",
    "    t = np.arange(minx-1, maxx+1, 0.1)\n",
    "    s = np.arange(miny-1, maxy+1, 0.1)\n",
    "    p,q = np.meshgrid(t, s)\n",
    "    z = SVMfunc2(np.stack((p,q,p**2+q**2), axis=2),x,y,beta,bias)\n",
    "    plt.contourf(t,s,z,[-99999,0,99999], colors=['blue','red'],alpha=0.5)\n",
    "    plt.plot(x[y==-1][:,0],x[y==-1][:,1],'bo',x[y==1][:,0],x[y==1][:,1],'ro')"
   ]
  },
  {
   "cell_type": "code",
   "execution_count": 216,
   "metadata": {},
   "outputs": [
    {
     "data": {
      "image/png": "[encoded data removed]",
      "text/plain": [
       "<Figure size 432x288 with 1 Axes>"
      ]
     },
     "metadata": {
      "needs_background": "light"
     },
     "output_type": "display_data"
    }
   ],
   "source": [
    "# create data, take a uniform distribution on [0,1]x[0,2\\pi], scale 1st coord by sqrt( to get uniform dist on disk) and map to circle using polar coords\n",
    "\n",
    "n= 50 #number of samples\n",
    "x= np.random.uniform(0,1,n)\n",
    "x=x**0.5\n",
    "y= np.random.uniform(0,2*np.pi,n)\n",
    "yd=x*np.sin(y)\n",
    "xd=x*np.cos(y)\n",
    "X1= np.vstack((xd,yd)).T\n",
    "X1lbl=-1*np.ones(n)\n",
    "\n",
    "#similarly for annulus\n",
    "x= np.random.uniform(1,4,n)\n",
    "x=x**0.5\n",
    "y= np.random.uniform(0,2*np.pi,n)\n",
    "yd=x*np.sin(y)\n",
    "xd=x*np.cos(y)\n",
    "X2= np.vstack((xd,yd)).T\n",
    "X2lbl=np.ones(n)\n",
    "#label X1 by -1 and X2 by 1\n",
    "\n",
    "\n",
    "X_Data = np.concatenate((X1,X2))\n",
    "Y_Data = np.concatenate((X1lbl,X2lbl))\n",
    "\n",
    "plt.plot(X_Data[Y_Data==-1][:,0],X_Data[Y_Data==-1][:,1],'ro',X_Data[Y_Data==1][:,0],X_Data[Y_Data==1][:,1],'bo')\n",
    "\n",
    "#circle1=plt.Circle((0,0),2,color='g')\n",
    "#plt.gcf().gca().add_artist(circle1)\n",
    "#circle2=plt.Circle((0,0),1,color='y')\n",
    "#plt.gcf().gca().add_artist(circle2)\n",
    "plt.show()"
   ]
  },
  {
   "cell_type": "code",
   "execution_count": 217,
   "metadata": {},
   "outputs": [
    {
     "data": {
      "image/png": "[encoded data removed]",
      "text/plain": [
       "<Figure size 432x288 with 1 Axes>"
      ]
     },
     "metadata": {
      "needs_background": "light"
     },
     "output_type": "display_data"
    }
   ],
   "source": [
    "conplot(X_Data,Y_Data,100,10)\n",
    "plt.show()"
   ]
  },
  {
   "cell_type": "code",
   "execution_count": 218,
   "metadata": {},
   "outputs": [
    {
     "data": {
      "image/png": "[encoded data removed]",
      "text/plain": [
       "<Figure size 432x288 with 1 Axes>"
      ]
     },
     "metadata": {
      "needs_background": "light"
     },
     "output_type": "display_data"
    }
   ],
   "source": [
    "X_Trans = np.stack((X_Data[:,0],X_Data[:,1],X_Data[:,0]**2+X_Data[:,1]**2)).T\n",
    "\n",
    "conplot3(X_Trans,Y_Data,100,10)\n",
    "plt.show()"
   ]
  },
  {
   "cell_type": "markdown",
   "metadata": {},
   "source": [
    "The map $\\phi$ maps to a parabaloid. It adds the 2-norm of points as a parameter and this easily disinguishes the two data sets."
   ]
  },
  {
   "cell_type": "markdown",
   "metadata": {},
   "source": [
    "# Task 2.7"
   ]
  },
  {
   "cell_type": "code",
   "execution_count": 219,
   "metadata": {},
   "outputs": [
    {
     "data": {
      "image/png": "[encoded data removed]",
      "text/plain": [
       "<Figure size 432x288 with 1 Axes>"
      ]
     },
     "metadata": {
      "needs_background": "light"
     },
     "output_type": "display_data"
    }
   ],
   "source": [
    "def SVMfunc_NL(z, x, y, beta, bias, kernel):\n",
    "    ans=bias+(y*(kernel(z,x)))@beta\n",
    "    return(ans)\n",
    "\n",
    "def OneStep_NL(i,j, x, y, beta, bias, C,kernel):\n",
    "    delta = y[i]*((SVMfunc_NL(x[j], x, y, beta, bias,kernel)-y[j]) - (SVMfunc_NL(x[i], x, y, beta, bias,kernel) - y[i]))\n",
    "    s = y[i]*y[j]\n",
    "    chi = kernel(x[i],x[i]) + kernel(x[j],x[j]) - 2*kernel(x[i],x[j])\n",
    "    gamma = s*beta[i] + beta[j]\n",
    "    \n",
    "    if s==1:\n",
    "        L= max(0, gamma -1*C)\n",
    "        H = min(gamma, C)\n",
    "    \n",
    "    else:\n",
    "        L = max(0, -1*gamma)\n",
    "        H = min(C, C-gamma)\n",
    "    \n",
    "    if chi>0:\n",
    "        beta[i] = min(max(beta[i] + delta/chi, L), H)\n",
    "    elif delta > 0:\n",
    "        beta[i] = L\n",
    "    else:\n",
    "        beta[i] = H\n",
    "        \n",
    "    beta[j] = gamma - s * beta[i]\n",
    "    bias = bias - 0.5 * (SVMfunc_NL(x[j], x, y, beta, bias, kernel) - y[j] + SVMfunc_NL(x[i], x, y, beta, bias,kernel) - y[i])\n",
    "    return (beta, bias)\n",
    "\n",
    "\n",
    "def SMO_NL(x, y, iterations, C,kernel):\n",
    "    n = len(x)\n",
    "    beta = np.zeros(n)\n",
    "    bias = 0\n",
    "    \n",
    "    for k in range(iterations):\n",
    "        #picks two non equal integers from 0 to n\n",
    "        i, j = np.random.choice(n, 2)\n",
    "        \n",
    "        #updates beta and bias according to onestep algorithm\n",
    "        beta, bias = OneStep_NL(i,j, x, y, beta, bias, C,kernel)\n",
    "    \n",
    "    s=(SVMfunc_NL(x,x,y,beta,bias,kernel)-y)[beta!=0]\n",
    "    bias=bias-np.median(s)\n",
    "    \n",
    "    return (beta,bias)\n",
    "\n",
    "def norm(x):\n",
    "    return np.sum(x*x,axis=len(x.shape)-1)\n",
    "    \n",
    "def GaussKernel(z,x,sigma):\n",
    "    xt=x.reshape(tuple(np.ones(len(z.shape)-1).astype(int))+x.shape)\n",
    "    zt=z.reshape(z.shape[:-1]+(1,)+(z.shape[-1],))  \n",
    "    return np.exp(-norm(zt-xt)/(2*sigma**2))\n",
    "\n",
    "def ScalarProdKernel(z,x):\n",
    "    return z@x.T\n",
    "\n",
    "def Gauss1(z,x):\n",
    "    return GaussKernel(z,x,1)\n",
    "\n",
    "def conplot_NL(x,y,iterations,C,kernel):\n",
    "    beta,bias=SMO_NL(x,y,iterations,C,kernel)\n",
    "    \n",
    "    maxx = np.amax(x[:,0])\n",
    "    maxy = np.amax(x[:,1])\n",
    "    minx = np.amin(x[:,0])\n",
    "    miny = np.amin(x[:,1])    \n",
    "    t = np.arange(minx-1, maxx+1, 0.1)\n",
    "    s = np.arange(miny-1, maxy+1, 0.1)\n",
    "    p,q = np.meshgrid(t, s)\n",
    "    z = SVMfunc_NL(np.stack((p,q), axis=2),x,y,beta,bias,kernel)\n",
    "    plt.contourf(t,s,z,[-99999,0,99999], colors=['blue','red'],alpha=0.5)\n",
    "    plt.plot(x[y==-1][:,0],x[y==-1][:,1],'bo',x[y==1][:,0],x[y==1][:,1],'ro')\n",
    "    \n",
    "conplot_NL(X_Data,Y_Data,1000,10,Gauss1)\n",
    "plt.show()"
   ]
  },
  {
   "cell_type": "markdown",
   "metadata": {},
   "source": [
    "# Task 2.8"
   ]
  },
  {
   "cell_type": "code",
   "execution_count": 220,
   "metadata": {},
   "outputs": [
    {
     "name": "stdout",
     "output_type": "stream",
     "text": [
      "Downloading train-images-idx3-ubyte.gz\n",
      "Downloading train-labels-idx1-ubyte.gz\n",
      "Downloading t10k-images-idx3-ubyte.gz\n",
      "Downloading t10k-labels-idx1-ubyte.gz\n"
     ]
    }
   ],
   "source": [
    "#Load MNIST Data\n",
    "import os\n",
    "import gzip\n",
    "from urllib.request import urlretrieve\n",
    "\n",
    "def download(filename , source='http://yann.lecun.com/exdb/mnist/'):\n",
    "    print(\"Downloading %s\" % filename)\n",
    "    urlretrieve (source + filename , filename)\n",
    "    \n",
    "\n",
    "def load_mnist_images (filename):\n",
    "    if not os.path.exists(filename ):\n",
    "        download(filename)\n",
    "    with gzip.open(filename , 'rb') as f:\n",
    "        data = np. frombuffer (f.read (), np.uint8 , offset=16)\n",
    "    data = data.reshape (-1, 28, 28)\n",
    "    return data / np.float32 (256)\n",
    "\n",
    "def load_mnist_labels (filename):\n",
    "    if not os.path.exists(filename ):\n",
    "        download(filename)\n",
    "    with gzip.open(filename , 'rb') as f:\n",
    "        data = np. frombuffer (f.read (), np.uint8 , offset=8)\n",
    "    return data\n",
    "\n",
    "X_train = load_mnist_images('train-images-idx3-ubyte.gz')\n",
    "y_train = load_mnist_labels('train-labels-idx1-ubyte.gz')\n",
    "X_test = load_mnist_images('t10k-images-idx3-ubyte.gz')\n",
    "y_test = load_mnist_labels('t10k-labels-idx1-ubyte.gz')\n"
   ]
  },
  {
   "cell_type": "code",
   "execution_count": 221,
   "metadata": {},
   "outputs": [
    {
     "name": "stderr",
     "output_type": "stream",
     "text": [
      "C:\\Users\\Libby\\Anaconda3\\lib\\site-packages\\sklearn\\model_selection\\_search.py:841: DeprecationWarning: The default of the `iid` parameter will change from True to False in version 0.22 and will be removed in 0.24. This will change numeric results when test-set sizes are unequal.\n",
      "  DeprecationWarning)\n"
     ]
    },
    {
     "name": "stdout",
     "output_type": "stream",
     "text": [
      "[[ 966    0    0    0    0    5    5    1    3    0]\n",
      " [   0 1118    3    2    0    3    1    0    8    0]\n",
      " [   9   10  941   15   12    0    7   20   18    0]\n",
      " [   3    3   16  939    1   23    0    9   12    4]\n",
      " [   1    2    6    0  936    0    9    1    3   24]\n",
      " [   8    5    5   35    8  804   13    0    9    5]\n",
      " [  14    2    4    1    4    9  921    0    3    0]\n",
      " [   0   12   14    7    7    2    0  955    8   23]\n",
      " [   7    3   13   13    8   18    3   11  888   10]\n",
      " [   5   10    1    9   35    3    0   16    4  926]]\n",
      "0.9394\n"
     ]
    }
   ],
   "source": [
    "def Sample(n,X,Y):\n",
    "    TrainSize=np.size(Y)\n",
    "    Choice=np.random.choice(TrainSize,n)\n",
    "    return (X[Choice,:],Y[Choice])\n",
    "    \n",
    "def CrossValidation(X_train,y_train):\n",
    "    X_validate,y_validate=Sample(500,X_train,y_train)\n",
    "    \n",
    "    para= {'C':[1,10,100], 'gamma':[0.1,0.01,0.001]}\n",
    "    svc = svm.SVC()\n",
    "    Searchclf = GridSearchCV(svc, para, cv=5)\n",
    "    Searchclf.fit(X_validate, y_validate)\n",
    "    \n",
    "    return Searchclf.best_params_\n",
    "\n",
    "def SciKitSVM(X_train,y_train,X_test,y_test):\n",
    "    X_test=X_test.reshape(X_test.shape[0],28*28)\n",
    "    X_train=X_train.reshape(X_train.shape[0],28*28)\n",
    "    \n",
    "    X_trainSubset,y_trainSubset=Sample(2000,X_train,y_train)\n",
    "    \n",
    "    params=CrossValidation(X_train,y_train)   \n",
    "    clf = svm.SVC(C=params['C'],gamma=params['gamma'])\n",
    "\n",
    "    clf.fit(X_trainSubset, y_trainSubset)\n",
    "    y_pred = clf.predict(X_test)\n",
    "    conf= metrics.confusion_matrix(y_test,y_pred)\n",
    "\n",
    "    print(conf)\n",
    "    print(np.trace(conf)/y_test.size)\n",
    "    \n",
    "SciKitSVM(X_train,y_train,X_test,y_test)\n",
    "\n"
   ]
  },
  {
   "cell_type": "markdown",
   "metadata": {},
   "source": [
    "Is our approach of picking a different training set in step (b) – and learning\n",
    "with the optimal parameters from (a) – valid? Are there potential pitfalls?\n",
    "\n",
    "The approach is valid. We assume the data from a) and b) are both drawn from the same probability distribution so optimality for a) should carry over to the data used in b). Since we train many times to optimise parameters its only paractical with smaller subsets but when we train using the optimal parameters we can use much more data practically. Doing it this way should also help avoid overfitting. \n",
    "\n",
    "If our data set in a) is not a good representation of all the data, perhaps too small or not random, this could give us bad parameters which could make our final predictor much less accurate."
   ]
  },
  {
   "cell_type": "code",
   "execution_count": null,
   "metadata": {
    "collapsed": true
   },
   "outputs": [],
   "source": []
  }
 ],
 "metadata": {
  "kernelspec": {
   "display_name": "Python 3",
   "language": "python",
   "name": "python3"
  },
  "language_info": {
   "codemirror_mode": {
    "name": "ipython",
    "version": 3
   },
   "file_extension": ".py",
   "mimetype": "text/x-python",
   "name": "python",
   "nbconvert_exporter": "python",
   "pygments_lexer": "ipython3",
   "version": "3.7.3"
  }
 },
 "nbformat": 4,
 "nbformat_minor": 2
}

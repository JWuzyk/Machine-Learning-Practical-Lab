{
 "cells": [
  {
   "cell_type": "markdown",
   "metadata": {},
   "source": [
    "# Reinforcement Learning"
   ]
  },
  {
   "cell_type": "markdown",
   "metadata": {},
   "source": [
    "## Value iteration"
   ]
  },
  {
   "cell_type": "code",
   "execution_count": 24,
   "metadata": {},
   "outputs": [],
   "source": [
    "from mllab.rl import TicTacToe, LGame\n",
    "import numpy as np"
   ]
  },
  {
   "cell_type": "markdown",
   "metadata": {},
   "source": [
    "We implement value iteration and test it on two board games, Tic-tac-toe and the L-Game ([Wikipedia](https://en.wikipedia.org/wiki/L_game)).\n",
    "\n",
    "Both games have the same interface, so you can write your code to work for both games without further changes. The interface is shown in the following."
   ]
  },
  {
   "cell_type": "code",
   "execution_count": 375,
   "metadata": {},
   "outputs": [
    {
     "name": "stdout",
     "output_type": "stream",
     "text": [
      "2\n"
     ]
    },
    {
     "data": {
      "image/svg+xml": [
       "\n",
       "        <svg width=\"250px\" height=\"280px\" viewBox=\"0 0 500 560\" version=\"1.1\" xmlns=\"http://www.w3.org/2000/svg\" xmlns:xlink=\"http://www.w3.org/1999/xlink\">\n",
       "            <defs>\n",
       "                <g id=\"cross\" stroke=\"#000000\" stroke-width=\"5\" fill=\"none\" stroke-linecap=\"square\">\n",
       "                    <path d=\"M0.390625,0.390625 L99.6124507,99.6124507\" />\n",
       "                    <path d=\"M99.609375,0.390625 L0.38754926,99.6124507\" />\n",
       "                </g>\n",
       "                <g id=\"circle\" stroke=\"#000000\" stroke-width=\"5\" fill=\"none\" stroke-linecap=\"square\">\n",
       "                    <circle cx=\"45.666\" cy=\"45.666\" r=\"57.5\"/>\n",
       "                </g>\n",
       "            </defs>\n",
       "            <g stroke=\"#000000\" stroke-width=\"5\" fill=\"none\" stroke-linecap=\"square\">\n",
       "                <path d=\"M0,163.33 L500,163.33\" />\n",
       "                <path d=\"M0,326.66 L500,326.66\" />\n",
       "                <path d=\"M163.33,0 L163.33,500\" />\n",
       "                <path d=\"M326.66,0 L326.66,500\" />\n",
       "            <g transform=\"translate(31.666, 31.666)\"><use xlink:href=\"#cross\" /></g><g transform=\"translate(197.499, 363.332)\"><use xlink:href=\"#cross\" /></g><circle cx=\"413.3325\" cy=\"413.3325\" r=\"57.5\" /></g>\n",
       "            <text id=\"Player-to-move:\" font-family=\"ArialMT, Arial\" font-size=\"18\" font-weight=\"normal\" letter-spacing=\"-0.472499967\">\n",
       "                <tspan x=\"11.0367182\" y=\"538\">Player to move:</tspan>\n",
       "            </text><g transform=\"translate(150, 521), scale(.25)\"><use xlink:href=\"#circle\"/></g></svg>"
      ],
      "text/plain": [
       "TicTacToe(x|☐|☐, ☐|☐|☐, ☐|x|o)"
      ]
     },
     "execution_count": 375,
     "metadata": {},
     "output_type": "execute_result"
    }
   ],
   "source": [
    "game = TicTacToe\n",
    "TEST = game.unique_states[22]  # A list of all possible game states. The states are normalized.\n",
    "T1 = TEST.apply_action((0,2))\n",
    "print(vT_slow[TEST])\n",
    "TEST"
   ]
  },
  {
   "cell_type": "code",
   "execution_count": 56,
   "metadata": {},
   "outputs": [
    {
     "name": "stdout",
     "output_type": "stream",
     "text": [
      "Current player: 2\n",
      "Winner? None\n",
      "Is terminal?  False\n",
      "List of valid actions:  [(0, 0), (0, 2), (1, 0), (1, 1)]\n"
     ]
    }
   ],
   "source": [
    "state = game.unique_states[3]\n",
    "print(\"Current player:\", state.player)\n",
    "print(\"Winner?\", state.winner())  # returns either None or a player number\n",
    "print(\"Is terminal? \", state.is_terminal())  # is the game finished?\n",
    "print(\"List of valid actions: \", state.valid_actions())"
   ]
  },
  {
   "cell_type": "markdown",
   "metadata": {},
   "source": [
    "Let's see how we can apply an action and get a new state."
   ]
  },
  {
   "cell_type": "code",
   "execution_count": 30,
   "metadata": {},
   "outputs": [
    {
     "name": "stdout",
     "output_type": "stream",
     "text": [
      "Place piece at (2, 0)\n",
      "Current player: 1\n",
      "Winner? 2\n",
      "Is terminal?  True\n",
      "List of valid actions:  []\n"
     ]
    },
    {
     "data": {
      "image/svg+xml": [
       "\n",
       "        <svg width=\"250px\" height=\"280px\" viewBox=\"0 0 500 560\" version=\"1.1\" xmlns=\"http://www.w3.org/2000/svg\" xmlns:xlink=\"http://www.w3.org/1999/xlink\">\n",
       "            <defs>\n",
       "                <g id=\"cross\" stroke=\"#000000\" stroke-width=\"5\" fill=\"none\" stroke-linecap=\"square\">\n",
       "                    <path d=\"M0.390625,0.390625 L99.6124507,99.6124507\" />\n",
       "                    <path d=\"M99.609375,0.390625 L0.38754926,99.6124507\" />\n",
       "                </g>\n",
       "                <g id=\"circle\" stroke=\"#000000\" stroke-width=\"5\" fill=\"none\" stroke-linecap=\"square\">\n",
       "                    <circle cx=\"45.666\" cy=\"45.666\" r=\"57.5\"/>\n",
       "                </g>\n",
       "            </defs>\n",
       "            <g stroke=\"#000000\" stroke-width=\"5\" fill=\"none\" stroke-linecap=\"square\">\n",
       "                <path d=\"M0,163.33 L500,163.33\" />\n",
       "                <path d=\"M0,326.66 L500,326.66\" />\n",
       "                <path d=\"M163.33,0 L163.33,500\" />\n",
       "                <path d=\"M326.66,0 L326.66,500\" />\n",
       "            <g transform=\"translate(31.666, 31.666)\"><use xlink:href=\"#cross\" /></g><g transform=\"translate(363.332, 31.666)\"><use xlink:href=\"#cross\" /></g><circle cx=\"81.6665\" cy=\"247.4995\" r=\"57.5\" /><g transform=\"translate(197.499, 197.499)\"><use xlink:href=\"#cross\" /></g><g transform=\"translate(363.332, 197.499)\"><use xlink:href=\"#cross\" /></g><circle cx=\"81.6665\" cy=\"413.3325\" r=\"57.5\" /><circle cx=\"247.4995\" cy=\"413.3325\" r=\"57.5\" /><circle cx=\"413.3325\" cy=\"413.3325\" r=\"57.5\" /></g>\n",
       "            <text id=\"Player-to-move:\" font-family=\"ArialMT, Arial\" font-size=\"18\" font-weight=\"normal\" letter-spacing=\"-0.472499967\">\n",
       "                <tspan x=\"11.0367182\" y=\"538\">Player to move:</tspan>\n",
       "            </text><g transform=\"translate(150, 521), scale(.25)\"><use xlink:href=\"#cross\"/></g></svg>"
      ],
      "text/plain": [
       "TicTacToe(x|☐|x, o|x|x, o|o|o)"
      ]
     },
     "execution_count": 30,
     "metadata": {},
     "output_type": "execute_result"
    }
   ],
   "source": [
    "import random\n",
    "\n",
    "#print(state.valid_actions())\n",
    "#action = random.choice(state.valid_actions())\n",
    "action = (2,0)\n",
    "print(\"Place piece at\", action)\n",
    "new_state = state.apply_action(action)\n",
    "new_state"
   ]
  },
  {
   "cell_type": "markdown",
   "metadata": {},
   "source": [
    "### Normalized States\n",
    "\n",
    "The returned `new_state` is **not normalized**. Since the value function is only defined for normalized states. You have to normalize the state."
   ]
  },
  {
   "cell_type": "code",
   "execution_count": 20,
   "metadata": {},
   "outputs": [],
   "source": [
    "new_state_normalized = new_state.normalized()"
   ]
  },
  {
   "cell_type": "markdown",
   "metadata": {},
   "source": [
    "### Task 1\n",
    "\n",
    "Implement the `win_reward` and `value_iteration` function below. Use the game interface explained above.\n",
    "\n",
    "**Pitfall**: Let $s$ be the current state, $a$ be a valid action for $s$, and $s^\\prime$ be the state we get if action $a$ is taken in state $s$. Then, the reward for the player taking action $a$ in $s$ is _not_ $V(s^\\prime)$, but $-V(s^\\prime)$. We use one value function for both policies and only store the value for normalized states (for equivalence classes)."
   ]
  },
  {
   "cell_type": "code",
   "execution_count": 403,
   "metadata": {},
   "outputs": [],
   "source": [
    "from itertools import count\n",
    "\n",
    "\n",
    "def win_reward(s, action=None):\n",
    "    \"\"\"\n",
    "    Compute the reward if in state s the given action is applied.\n",
    "    \n",
    "    If there is no winner, 0 is returned. Otherwise, 1 or -1 is returned,\n",
    "    depending on whether the current player has won or lost.\n",
    "    \"\"\"\n",
    "    # your code goes here\n",
    "\n",
    "\n",
    "    if action== None:\n",
    "        winner = s.winner()\n",
    "        if winner==None:\n",
    "            return 0\n",
    "        elif winner==s.player:\n",
    "            return 1\n",
    "        else:\n",
    "            return -1\n",
    "    else:    \n",
    "        test_state = s.apply_action(action)### now in new state with new players turn\n",
    "        winner = test_state.winner()\n",
    "        if winner==None:\n",
    "            return 0\n",
    "        elif winner==test_state.player:\n",
    "            return 1\n",
    "        else:\n",
    "            return -1\n",
    "\n",
    "    \n",
    "\n",
    "\n",
    "def value_iteration(game, asynchronous=True, reward=win_reward):\n",
    "    \"\"\"\n",
    "    Perform value iteration and return the value function.\n",
    "    \n",
    "    Parameters\n",
    "    ==========\n",
    "    \n",
    "    game: A game class (e.g. TicTacToe or LGame)\n",
    "    asynchronous: bool\n",
    "        Whether to do the updates directly on the current iterate\n",
    "        or if the iterate is only updated at the end of the max operation (updated in parallel, synchronous).\n",
    "        In other words, if the parameter is False the maximum is computed\n",
    "        independently (using old values, ignoring other updates). Otherwise, other max operations\n",
    "        in the same iteration are taken into account.\n",
    "    reward: function\n",
    "        A function which takes a state and an action and returns a number.\n",
    "    \"\"\"\n",
    "    states = game.unique_states\n",
    "    v = {s: 0 for s in states}  # value function, initialized to 0\n",
    "    # your code goes here\n",
    "    gamma = 1     \n",
    "    v_new = v.copy()\n",
    "\n",
    "    while True:\n",
    "        v=v_new.copy()\n",
    "\n",
    "        for s in states:\n",
    "            if not s.is_terminal():\n",
    "                if asynchronous:\n",
    "                    v_new[s] = np.max([-1*reward(s,a) - gamma*v_new[s.apply_action(a).normalized()] for a in s.valid_actions()])\n",
    "                else :\n",
    "                    v_new[s] = np.max([-1*reward(s,a) - gamma*v[s.apply_action(a).normalized()] for a in s.valid_actions()])\n",
    "        if v == v_new:\n",
    "            break\n",
    "    return v_new"
   ]
  },
  {
   "cell_type": "markdown",
   "metadata": {},
   "source": [
    "Compute an optimal value function for the game Tic-Tac-Toe."
   ]
  },
  {
   "cell_type": "code",
   "execution_count": 408,
   "metadata": {},
   "outputs": [
    {
     "name": "stdout",
     "output_type": "stream",
     "text": [
      "[0, 0, 0, 0, 0, 0]\n",
      "[0, 0, 0, 0, 0, 0]\n",
      "[0, 0, 0, 0, 0, 0]\n",
      "[0, 0, -1, 0, 0, -1]\n",
      "[0, 0, -1, 0, 0, -1]\n",
      "[0, 0, -1, 0, -1, -1]\n",
      "[0, 0, 0, 0, 0, 0]\n",
      "[0, 0, 0, 0, 0, 0]\n",
      "[0, 0, 0, 0, 0, -1]\n",
      "[0, 0, -1, 0, -1, -1]\n",
      "[0, 0, -1, 0, -1, -1]\n"
     ]
    }
   ],
   "source": [
    "vT_slow = value_iteration(TicTacToe, asynchronous=False)\n",
    "vT_fast = value_iteration(TicTacToe, asynchronous=True)"
   ]
  },
  {
   "cell_type": "markdown",
   "metadata": {},
   "source": [
    "Now compute an optimal value function for the L-Game."
   ]
  },
  {
   "cell_type": "code",
   "execution_count": null,
   "metadata": {},
   "outputs": [],
   "source": [
    "vL_slow = value_iteration(LGame, asynchronous=False)\n",
    "vL_fast = value_iteration(LGame, asynchronous=True)"
   ]
  },
  {
   "cell_type": "markdown",
   "metadata": {},
   "source": [
    "Write code to get an policy from a value function."
   ]
  },
  {
   "cell_type": "code",
   "execution_count": 406,
   "metadata": {},
   "outputs": [],
   "source": [
    "import random\n",
    "\n",
    "\n",
    "class ValueFunctionBasedPolicy:\n",
    "    \"\"\"\n",
    "    A policy computed using a value function.\n",
    "    \n",
    "    Usage\n",
    "    =====\n",
    "    \n",
    "        # assume a value function is stored in v\n",
    "        policy = ValueFunctionBasedPolicy(v)\n",
    "\n",
    "        # get a best action for state\n",
    "        action = policy[state]\n",
    "    \"\"\"\n",
    "\n",
    "    def __init__(self, v, reward):\n",
    "        self._v = v\n",
    "        self._reward = reward\n",
    "    \n",
    "    def __getitem__(self, s):\n",
    "        \"\"\"Get an action for state s.\"\"\"\n",
    "        return random.choice(self.actions(s))\n",
    "    \n",
    "    def actions(self, s):\n",
    "        \"\"\"Get all actions which maximize the reward in state s.\"\"\"\n",
    "        print(self._v[s.normalized()])\n",
    "        actions = list(s.valid_actions())\n",
    "        if not actions:\n",
    "            return []\n",
    "        # your code goes here\n",
    "        m= np.min([self._v[s.apply_action(a).normalized()] for a in actions])\n",
    "        min_actions = [a  for a in actions if self._v[s.apply_action(a).normalized()] == m]\n",
    "        return min_actions\n",
    "\n",
    "    def value(self, s, a):\n",
    "        return self._reward(s, a) - self._v[s.apply_action(a).normalized()]"
   ]
  },
  {
   "cell_type": "markdown",
   "metadata": {},
   "source": [
    "Let us watch the agent play against itself."
   ]
  },
  {
   "cell_type": "code",
   "execution_count": 37,
   "metadata": {},
   "outputs": [],
   "source": [
    "from mllab.rl import self_play"
   ]
  },
  {
   "cell_type": "code",
   "execution_count": 410,
   "metadata": {},
   "outputs": [
    {
     "data": {
      "image/svg+xml": [
       "\n",
       "        <svg width=\"250px\" height=\"280px\" viewBox=\"0 0 500 560\" version=\"1.1\" xmlns=\"http://www.w3.org/2000/svg\" xmlns:xlink=\"http://www.w3.org/1999/xlink\">\n",
       "            <defs>\n",
       "                <g id=\"cross\" stroke=\"#000000\" stroke-width=\"5\" fill=\"none\" stroke-linecap=\"square\">\n",
       "                    <path d=\"M0.390625,0.390625 L99.6124507,99.6124507\" />\n",
       "                    <path d=\"M99.609375,0.390625 L0.38754926,99.6124507\" />\n",
       "                </g>\n",
       "                <g id=\"circle\" stroke=\"#000000\" stroke-width=\"5\" fill=\"none\" stroke-linecap=\"square\">\n",
       "                    <circle cx=\"45.666\" cy=\"45.666\" r=\"57.5\"/>\n",
       "                </g>\n",
       "            </defs>\n",
       "            <g stroke=\"#000000\" stroke-width=\"5\" fill=\"none\" stroke-linecap=\"square\">\n",
       "                <path d=\"M0,163.33 L500,163.33\" />\n",
       "                <path d=\"M0,326.66 L500,326.66\" />\n",
       "                <path d=\"M163.33,0 L163.33,500\" />\n",
       "                <path d=\"M326.66,0 L326.66,500\" />\n",
       "            <g transform=\"translate(31.666, 31.666)\"><use xlink:href=\"#cross\" /></g><g transform=\"translate(197.499, 31.666)\"><use xlink:href=\"#cross\" /></g><circle cx=\"413.3325\" cy=\"81.6665\" r=\"57.5\" /><circle cx=\"81.6665\" cy=\"247.4995\" r=\"57.5\" /><circle cx=\"247.4995\" cy=\"247.4995\" r=\"57.5\" /><g transform=\"translate(363.332, 197.499)\"><use xlink:href=\"#cross\" /></g><g transform=\"translate(31.666, 363.332)\"><use xlink:href=\"#cross\" /></g><g transform=\"translate(197.499, 363.332)\"><use xlink:href=\"#cross\" /></g><circle cx=\"413.3325\" cy=\"413.3325\" r=\"57.5\" /></g>\n",
       "            <text id=\"Player-to-move:\" font-family=\"ArialMT, Arial\" font-size=\"18\" font-weight=\"normal\" letter-spacing=\"-0.472499967\">\n",
       "                <tspan x=\"11.0367182\" y=\"538\">Player to move:</tspan>\n",
       "            </text><g transform=\"translate(150, 521), scale(.25)\"><use xlink:href=\"#circle\"/></g></svg>"
      ],
      "text/plain": [
       "TicTacToe(x|x|o, o|o|x, x|x|o)"
      ]
     },
     "metadata": {},
     "output_type": "display_data"
    },
    {
     "name": "stdout",
     "output_type": "stream",
     "text": [
      "0\n",
      "0\n",
      "0\n",
      "0\n",
      "0\n",
      "0\n",
      "0\n",
      "0\n",
      "0\n",
      "Game finished.\n"
     ]
    },
    {
     "data": {
      "text/plain": [
       "(TicTacToe(x|x|o, o|o|x, x|x|o), 9)"
      ]
     },
     "execution_count": 410,
     "metadata": {},
     "output_type": "execute_result"
    }
   ],
   "source": [
    "self_play(TicTacToe, ValueFunctionBasedPolicy(vT_fast, win_reward), sleep=1)"
   ]
  },
  {
   "cell_type": "code",
   "execution_count": 384,
   "metadata": {},
   "outputs": [
    {
     "data": {
      "image/svg+xml": [
       "\n",
       "        <svg width=\"250px\" height=\"280px\" viewBox=\"0 0 500 560\" version=\"1.1\" xmlns=\"http://www.w3.org/2000/svg\" xmlns:xlink=\"http://www.w3.org/1999/xlink\">\n",
       "            <g stroke=\"#000000\" stroke-width=\"5\" fill=\"none\">\n",
       "                <polygon points=\"2.5 2.5 497.5 2.5 497.5 497.5 2.5 497.5\"></polygon>\n",
       "                <path d=\"M126.25,499.5 L126.25,0\"></path>\n",
       "                <path d=\"M250,499.5 L250,0\"></path>\n",
       "                <path d=\"M373.75,499.5 L373.75,0\"></path>\n",
       "                <path d=\"M250.25,376 L250.25,-123.5\" transform=\"translate(250.250000, 126.250000) rotate(-270.000000) translate(-250.250000, -126.250000) \"></path>\n",
       "                <path d=\"M250.25,499.75 L250.25,0.25\" transform=\"translate(250.250000, 250.000000) rotate(-270.000000) translate(-250.250000, -250.000000) \"></path>\n",
       "                <path d=\"M250.25,623.5 L250.25,124\" transform=\"translate(250.250000, 373.750000) rotate(-270.000000) translate(-250.250000, -373.750000) \"></path>\n",
       "            </g>\n",
       "            <g fill=\"#000000\" stroke=\"none\">\n",
       "                <circle cx=\"64.375\" cy=\"311.875\" r=\"59.375\"></circle>\n",
       "                <circle cx=\"188.125\" cy=\"435.625\" r=\"59.375\"></circle>\n",
       "            </g>\n",
       "            <g stroke=\"none\">\n",
       "                <polyline fill=\"#D0021B\" points=\"0 0 242.5 0 242.5 366.25 123.75 366.25 123.75 118.75 0 118.75\" transform=\"matrix(1,0,0,-1,128.75,371.25)\"></polyline>\n",
       "                <polyline fill=\"#4A90E2\" points=\"0 0 242.5 0 242.5 366.25 123.75 366.25 123.75 118.75 0 118.75\" transform=\"matrix(1,0,0,-1,252.5,495.0)\"></polyline>\n",
       "            </g>\n",
       "            <text id=\"Player-to-move:\" font-family=\"ArialMT, Arial\" font-size=\"18\" font-weight=\"normal\" letter-spacing=\"-0.472499967\">\n",
       "                <tspan x=\"11.0367182\" y=\"538\">Player to move:</tspan>\n",
       "            </text>\n",
       "            <rect width=\"24\" height=\"24\" fill=\"#4A90E2\" y=\"519\" x=\"144\"/>\n",
       "        </svg>"
      ],
      "text/plain": [
       "LGame(L1: ▟ (0, 1), L2: ▟ (1, 2), N1: (2, 0), N2: (3, 1))"
      ]
     },
     "metadata": {},
     "output_type": "display_data"
    },
    {
     "name": "stdout",
     "output_type": "stream",
     "text": [
      "0\n",
      "0\n",
      "0\n",
      "0\n",
      "0\n",
      "0\n",
      "0\n",
      "0\n",
      "0\n",
      "0\n",
      "0\n",
      "0\n",
      "0\n",
      "0\n",
      "0\n",
      "0\n",
      "0\n",
      "0\n",
      "0\n",
      "0\n",
      "0\n",
      "Game finished.\n"
     ]
    },
    {
     "data": {
      "text/plain": [
       "(LGame(L1: ▟ (0, 1), L2: ▟ (1, 2), N1: (2, 0), N2: (3, 1)), 21)"
      ]
     },
     "execution_count": 384,
     "metadata": {},
     "output_type": "execute_result"
    }
   ],
   "source": [
    "self_play(LGame, ValueFunctionBasedPolicy(vL_fast, win_reward), sleep=0.01, max_steps=500)"
   ]
  },
  {
   "cell_type": "markdown",
   "metadata": {},
   "source": [
    "### L-Game Insights and Improvements"
   ]
  },
  {
   "cell_type": "markdown",
   "metadata": {},
   "source": [
    "The L-Game does never finish if both players are perfect. There some states though, which are special. Let us use the value function to get some insights.\n",
    "\n",
    "### Task 2\n",
    "\n",
    "Collect all states with negative value. How many are terminal, how many are not terminal? What does it mean that a state has a negative value but is not terminal?"
   ]
  },
  {
   "cell_type": "code",
   "execution_count": null,
   "metadata": {},
   "outputs": [],
   "source": [
    "# your code goes here"
   ]
  },
  {
   "cell_type": "markdown",
   "metadata": {},
   "source": [
    "Let the agent start in every state with negative reward which is not terminal and let it play against itself. Use\n",
    "```python\n",
    "final_state, steps = self_play(state, ValueFunctionBasedPolicy(vL_fast), max_steps=100, sleep=0)\n",
    "```\n",
    "to compute the steps until the game terminates and it final state.\n",
    "\n",
    "Print the number of steps it takes to terminate and how the game ended. Run the code several times, what do you observe?"
   ]
  },
  {
   "cell_type": "code",
   "execution_count": null,
   "metadata": {},
   "outputs": [],
   "source": [
    "# your code goes here"
   ]
  },
  {
   "cell_type": "markdown",
   "metadata": {},
   "source": [
    "Use the computed value function to design a new reward which improves the behaivor."
   ]
  },
  {
   "cell_type": "code",
   "execution_count": null,
   "metadata": {},
   "outputs": [],
   "source": [
    "good_positions = set(s for s in LGame.unique_states if vL[s] > 0 and s.winner() is None)\n",
    "bad_positions = set(s for s in LGame.unique_states if vL[s] < 0 and s.winner() is None)\n",
    "\n",
    "def asap_win_reward(s, a=None):\n",
    "    # your code goes here"
   ]
  },
  {
   "cell_type": "code",
   "execution_count": null,
   "metadata": {},
   "outputs": [],
   "source": [
    "vL_improved = value_iteration(LGame, reward=asap_win_reward)"
   ]
  },
  {
   "cell_type": "markdown",
   "metadata": {},
   "source": [
    "Now, compute the number of steps before termination again and compare. Maybe, also read the Wikipedia article on the L-Game referenced at the beginning."
   ]
  },
  {
   "cell_type": "code",
   "execution_count": null,
   "metadata": {},
   "outputs": [],
   "source": [
    "# your code goes here"
   ]
  },
  {
   "cell_type": "markdown",
   "metadata": {},
   "source": [
    "## Policy Iteration"
   ]
  },
  {
   "cell_type": "markdown",
   "metadata": {},
   "source": [
    "### Task 3\n",
    "\n",
    "Implement `policy_evaluation` and `policy_improvement` below."
   ]
  },
  {
   "cell_type": "code",
   "execution_count": null,
   "metadata": {},
   "outputs": [],
   "source": [
    "import random\n",
    "import math\n",
    "from mllab.rl import Policy\n",
    "from itertools import cycle\n",
    "\n",
    "\n",
    "def policy_improvement(p1, p2, v1, v2, reward):\n",
    "    \"\"\"\n",
    "    Compute an improved policy for the states using the value function v.\n",
    "    \n",
    "    Parameters\n",
    "    ==========\n",
    "    p1: dict\n",
    "        Policy for player 1\n",
    "    p2: dict\n",
    "        Policy for player 2\n",
    "    v1: dict\n",
    "        Value function for player 1\n",
    "    v2: dict\n",
    "        Value function for player 2\n",
    "    reward: callable\n",
    "        The reward function\n",
    "    Returns\n",
    "    =======\n",
    "    (dict, dict)\n",
    "        Two policies, one for player 1, the second for player 2\n",
    "    \"\"\"\n",
    "    p1 = dict(p1)\n",
    "    states = list(v1.keys())\n",
    "    # compute greedy update for p1\n",
    "    for s in states:\n",
    "        # your code goes here\n",
    "    # compute best response to p1 for p2\n",
    "    v1 = policy_evaluation(states, p1, p2, reward)\n",
    "    v2 = policy_evaluation(states, p2, p1, reward)\n",
    "    p2 = {}\n",
    "    while True:\n",
    "        print('P', end='')  # print a 'P' for each iteration\n",
    "        # your code goes here\n",
    "    return p1, p2\n",
    "\n",
    "\n",
    "def policy_evaluation(states, p1, p2, reward):\n",
    "    \"\"\"\n",
    "    Comptue the value function for given policies.\n",
    "    \n",
    "    Parameters\n",
    "    ==========\n",
    "    states: list of normalized states\n",
    "    p1: dict\n",
    "        Policy for first player\n",
    "    p2: dict\n",
    "        Policy for second player\n",
    "    \"\"\"\n",
    "    v = {}\n",
    "    for s in states:\n",
    "        current = s\n",
    "        rewards = []\n",
    "        sign = 1  # cf. pitfall\n",
    "        # store (sign, state) pairs and check for cycles!\n",
    "        trajectory = []\n",
    "        # iterate until the current state is terminal (i.e., None)\n",
    "        while current is not None:\n",
    "            # your code goes here\n",
    "        v[s] = sum(rewards)\n",
    "    return v\n",
    "\n",
    "\n",
    "def policy_iteration(game, reward):\n",
    "    \"\"\"\n",
    "    Perform policy iteration for the given game, and reward function.\n",
    "    \n",
    "    Returns\n",
    "    =======\n",
    "    policy: Policy\n",
    "    \"\"\"\n",
    "    states = game.unique_states\n",
    "    p1 = {s: random.choice(s.valid_actions()) for s in states if s.valid_actions()}\n",
    "    p2 = {s: random.choice(s.valid_actions()) for s in states if s.valid_actions()}\n",
    "    v1, v2 = {}, {}\n",
    "    while True:\n",
    "        v1_new = policy_evaluation(states, p1, p2, reward)\n",
    "        v2_new = policy_evaluation(states, p2, p1, reward)\n",
    "        if v1 == v1_new and v2 == v2_new:\n",
    "            break\n",
    "        v1, v2 = v1_new, v2_new\n",
    "        p1, p2 = policy_improvement(p1, p2, v1, v2, reward)\n",
    "        print('.', end='')\n",
    "    print('')\n",
    "    return Policy(game, p)"
   ]
  },
  {
   "cell_type": "code",
   "execution_count": null,
   "metadata": {},
   "outputs": [],
   "source": [
    "pT_policy_iteration = policy_iteration(TicTacToe, win_reward)"
   ]
  },
  {
   "cell_type": "markdown",
   "metadata": {},
   "source": [
    "The policy iteration does might not converge for the L-Game, more specifically, finding the best response in `policy_improvement`. What it the reason? Can you fix it? (optional)"
   ]
  },
  {
   "cell_type": "code",
   "execution_count": null,
   "metadata": {},
   "outputs": [],
   "source": [
    "pL_pi = policy_iteration(LGame, asap_win_reward)"
   ]
  },
  {
   "cell_type": "markdown",
   "metadata": {},
   "source": [
    "## Deep Q Learning (DQN)"
   ]
  },
  {
   "cell_type": "markdown",
   "metadata": {},
   "source": [
    "Install some Python package we need by running the following cell."
   ]
  },
  {
   "cell_type": "code",
   "execution_count": null,
   "metadata": {},
   "outputs": [],
   "source": [
    "!pip install gym box2d box2d-kengz opencv-python h5py tqdm"
   ]
  },
  {
   "cell_type": "code",
   "execution_count": null,
   "metadata": {},
   "outputs": [],
   "source": [
    "import gym\n",
    "import numpy as np\n",
    "from mllab.rl.dqn import BaseQNetwork, ReplayMemory, EpsilonGreedyPolicy"
   ]
  },
  {
   "cell_type": "markdown",
   "metadata": {},
   "source": [
    "### Environment\n",
    "\n",
    "The action space of the car racing environment is continous and\n",
    "consists of a three dimensional real vector $[-1, 1]x[0, 1]x[0, 1]$\n",
    "corresponding to steering position, amount of gas and and brake intensity.\n",
    "We need discrete actions, so you have to pick finitely many points from this box.\n",
    "\n",
    "A initial suggestion has been made, **feel free to modify it**."
   ]
  },
  {
   "cell_type": "code",
   "execution_count": null,
   "metadata": {},
   "outputs": [],
   "source": [
    "env = gym.make('CarRacing-mllab-v0', verbose=0)\n",
    "# This will open a window. Call env.close() at the end to get rid of it."
   ]
  },
  {
   "cell_type": "code",
   "execution_count": null,
   "metadata": {},
   "outputs": [],
   "source": [
    "# Picke a finite set of actions\n",
    "action_space = env.action_space.discretize((\n",
    "    np.array([ 0, 1, 0]),  # full gas\n",
    "    np.array([ 0, 0, 1]),  # full brake\n",
    "    np.array([-1, 0, 0]),  # steer left\n",
    "    np.array([ 1, 0, 0]),  # steer right\n",
    "    np.array([ 0, 0, 0]),  # do nothing\n",
    "))"
   ]
  },
  {
   "cell_type": "markdown",
   "metadata": {},
   "source": [
    "Let's watch a random policy."
   ]
  },
  {
   "cell_type": "code",
   "execution_count": null,
   "metadata": {},
   "outputs": [],
   "source": [
    "env.reset()\n",
    "while True:\n",
    "    new_state, reward, terminated, _info = env.step(action_space.sample())\n",
    "    env.render()\n",
    "    if terminated:\n",
    "        break"
   ]
  },
  {
   "cell_type": "markdown",
   "metadata": {},
   "source": [
    "### Preprocessing map\n",
    "\n",
    "The state space of the car racing environment is made of an $96\\times96$ RGB image and seven measurements:\n",
    "\n",
    "- The velocity of the car (absolute value)\n",
    "- The angular velocity of the four wheels\n",
    "- The steering angle of the front wheels\n",
    "- The angular velocity of the car\n",
    "\n",
    "The map `preprocess` takes a state and transforms it to a state which hopefully is better suited as an input to the neural network. You can use the transformation as is **or change it**."
   ]
  },
  {
   "cell_type": "code",
   "execution_count": null,
   "metadata": {},
   "outputs": [],
   "source": [
    "import cv2 as cv\n",
    "from matplotlib import pyplot as plt\n",
    "from keras import backend as K\n",
    "\n",
    "\n",
    "def show(image):\n",
    "    \"\"\"\n",
    "    Show a greyscale image.\n",
    "    \n",
    "    Useful for debugging.\n",
    "    \"\"\"\n",
    "    fig, ax = plt.subplots(dpi=2 * 72)\n",
    "    if image.ndim == 3:\n",
    "        if image.shape[0] == 1:\n",
    "            image = image.reshape(image.shape[1:])\n",
    "        elif image.shape[-1] == 1:\n",
    "            image = image.reshape(image.shape[:-1])\n",
    "    if image.ndim == 2:\n",
    "        ax.imshow(image, cmap='gray')\n",
    "    else:\n",
    "        ax.imshow(image)\n",
    "    plt.axis('off')\n",
    "    plt.show()\n",
    "\n",
    "\n",
    "def preprocess(state):\n",
    "    \"\"\"\n",
    "    Preprocess the rendered color image of the car racing environment.\n",
    "\n",
    "    Parameters\n",
    "    ----------\n",
    "\n",
    "    state: (image, measurements)\n",
    "        image is an RGB image, more precisely an 96x96x3 array.\n",
    "        measurements is 1D vector of length 7.\n",
    "    \"\"\"\n",
    "    image, measurements = state\n",
    "    # Convert to grayscale\n",
    "    gray = cv.cvtColor(image, cv.COLOR_RGB2GRAY)\n",
    "    # Resize the image (to save memory)\n",
    "    # Get mask for red markings in curves\n",
    "    curve_marks = cv.inRange(image, (250, 0, 0), (255, 0, 0))\n",
    "    # Replace markings with white\n",
    "    gray[curve_marks == 255] = 255\n",
    "    gray = cv.resize(gray, (0,0), fx=0.85, fy=0.85)\n",
    "    # Remove pattern in grass by setting light pixels (> 130) to white (255)\n",
    "    gray = cv.threshold(gray, 130, 255, cv.THRESH_TRUNC)[1] / 130\n",
    "    if K.image_data_format() == 'channels_first':\n",
    "        gray = gray.reshape((1,) + gray.shape)\n",
    "    else:\n",
    "        gray = gray.reshape(gray.shape + (1,))\n",
    "    measurements = np.concatenate((\n",
    "        measurements[:4],\n",
    "        np.array([np.cos(measurements[4]), np.sin(measurements[4])]),\n",
    "        measurements[5:],\n",
    "    ))\n",
    "    return (gray.astype(K.floatx()), measurements.astype(K.floatx()))"
   ]
  },
  {
   "cell_type": "markdown",
   "metadata": {},
   "source": [
    "### Q-Network\n",
    "\n",
    "The Q-Network maps a (preprocessd) state to a Q-value for each action. Since out state consists of an image and measurements, we need to use Keras' functional API to build a neural network which can take mixed input.\n",
    "\n",
    "First, define two models for the scalar inputs and the image inputs:\n",
    "\n",
    "```python\n",
    "input_img = layers.Input(shape=...)\n",
    "img = layers.Conv2D(4, kernel_size=(3, 3), activation='relu')(input_img)\n",
    "# add more layers here (replace input_img by img)\n",
    "img = layers.Flatten()(img)\n",
    "img = keras.Model(input_img, img)\n",
    "\n",
    "input_scalar = layers.Input(shape=...)\n",
    "img = keras.Dense(8, activation='relu')(input_scalar)\n",
    "# as above\n",
    "scalar = layers.Model(input_scalar, scalar)\n",
    "```\n",
    "\n",
    "Then concatenate both models and create a new model:\n",
    "```python\n",
    "model = layers.concatenate([img.output, scalar.output])\n",
    "model = layers.Dense(num_actions, activation='linear')(model)\n",
    "model = keras.Model(inputs=[img.input, scalar.input], outputs=model)\n",
    "```"
   ]
  },
  {
   "cell_type": "markdown",
   "metadata": {},
   "source": [
    "### Task 4\n",
    "\n",
    "Define your model for the Q-network by implementing the `build_model` method.\n",
    "\n",
    "The method must return a model and an optimizer. The loss is implemented in the parent class."
   ]
  },
  {
   "cell_type": "code",
   "execution_count": null,
   "metadata": {},
   "outputs": [],
   "source": [
    "import keras\n",
    "import keras.layers as layers\n",
    "import keras.optimizers as optimizers\n",
    "\n",
    "class QNetwork(BaseQNetwork):\n",
    "    def build_model(self, state_shape):\n",
    "        num_actions = len(self.action_space)\n",
    "        # Build the network for the image part\n",
    "        img_shape, scalar_shape = state_shape\n",
    "\n",
    "        input_img = layers.Input(shape=img_shape)\n",
    "        # add your layers, if any, here\n",
    "        img = keras.Model(input_img, img)\n",
    "\n",
    "        # Build the network for the scalar part\n",
    "        input_scalar = layers.Input(shape=scalar_shape)\n",
    "        # add your layers, if any, here\n",
    "        scalar = keras.Model(input_scalar, scalar)\n",
    "\n",
    "        # Combine both networks\n",
    "        model = layers.concatenate([img.output, scalar.output])\n",
    "        # add your layers, if any, here\n",
    "        # the output shape must be the number of actions!\n",
    "        model = layers.Dense(num_actions, activation='linear')(model)\n",
    "        model = keras.Model(inputs=[img.input, scalar.input], outputs=model)\n",
    "\n",
    "        opt = optimizers.RMSprop(lr=0.00025 / 4, rho=0.95, epsilon=0.01)\n",
    "        return model, opt"
   ]
  },
  {
   "cell_type": "markdown",
   "metadata": {},
   "source": [
    "### Replay Memory\n",
    "\n",
    "The replay memory stores transitions. It was already implemented for your. To add a transition use\n",
    "```python\n",
    "replay_memory.add(state, action_index, reward, new_state)\n",
    "```\n",
    "**Important:** `state` and `new_state` must be the output of `preprocess`. If `state` is terminal, `new_state` must be `None`. The action index (not the actual index) is returned by the policy, see below.\n",
    "\n",
    "\n",
    "In order to sample a batch of transitions, call\n",
    "```python\n",
    "transitions, sample_weights = replay_memory.sample(importance_criterion, progress)\n",
    "```\n",
    "The parameter `importance_criterion` is a callable (e.g., a function) which get a transitions as arguments and returns an number to measure the prediction error for the transitions. You should use the TD-Error\n",
    "$$\n",
    "    |y - Q(s^\\prime, a)| = |\\bigl(r + \\gamma Q_\\textrm{target}(s^\\prime, \\operatorname{argmax}_aQ(s^\\prime, a))\\bigr) - Q(s^\\prime)|.\n",
    "$$\n",
    "For terminal states $y$ is just $r$.\n",
    "\n",
    "The arguments for `importance_criterion` are\n",
    "```python\n",
    "def my_criterion(s, actions, rewards, s2, not_terminal): ...\n",
    "```\n",
    "Where\n",
    "- `s` is a list of preprocessed state\n",
    "- `actions` is a NumPy array of action indices (the action taken in `s`)\n",
    "- `rewards` is a NumPy array of rewards received (the reward received after taking the action from `actions` in the state from `s`)\n",
    "- `s2` is a list of preprocessd states (the new state). Only non terminal states are returned.\n",
    "- `not_terminal` is a NumPy array of boolean indicating which of the states in `s` was not terminal. \n",
    "\n",
    "The parameter `progression` is a float in $[0, 1]$ which represents the percentage of the steps taken so far.\n",
    "\n",
    "The return value `transitions` of `replay_memory.sample` is a tuple which has the same entries as those given as parameters to `importance_criterion`. The `sample_weights` return value must be passed to the gradient step (see policy description).\n",
    "\n",
    "#### Memory requirements\n",
    "Depending on the size of your state the memory requirements can be huge. For example, to store 100k transitions you need 10GB of memory or more. Check if your machine has enough memory or try a smaller replay memory."
   ]
  },
  {
   "cell_type": "markdown",
   "metadata": {},
   "source": [
    "### $\\varepsilon$-Greedy-Policy\n",
    "\n",
    "A policy class is already implemented for your. Initialize it as following (feel free to change the parameters):\n",
    "```python\n",
    "policy = EpsilonGreedyPolicy(q_network)\n",
    "policy.initial_exploration = 1.0  # initial epsilon value\n",
    "policy.final_exploration = 0.01  # lowest epsilon value\n",
    "policy.evaluation_exploration = 0.001  # epsilon used during evaluation\n",
    "policy.final_exploration_step = 500_000  # number of steps over which epsilon is linearly decreased\n",
    "```\n",
    "Here, `q_network` is an instance of `QNetwork`.\n",
    "\n",
    "With probability $\\varepsilon$ the policy returns a random action (exploration). Otherwise, an action is returned with maximal Q-value. The probability $\\varepsilon$ is linearly decreased with the step number.\n",
    "\n",
    "You get an action from the policy by calling it (like a function):\n",
    "```python\n",
    "action_index, action = policy(preprocessed_state, step)\n",
    "```\n",
    "\n",
    "More methods:\n",
    "\n",
    "- `policy.copy()` creates an independent copy of the policy\n",
    "- `policy.gradient_step(states, actions, labels, sample_weights)` performs a gradient step. `state` and `actions` are the return values of the replay memory (first two elements in `transitions`), and `sample_weights` is the second return value of the replay memory.\n",
    "- `policy.copy_weights_from(other_policy)` Copies over the weights from another policy.\n",
    "\n",
    "To compute the Q-values of the underlying network, use\n",
    "```python\n",
    "policy.q_network(states)\n",
    "```\n",
    "which returns a NumPy array where each row contains the outputs of the network. You need this to implement the label computation and for `importance_criterion`."
   ]
  },
  {
   "cell_type": "markdown",
   "metadata": {},
   "source": [
    "### Q-Learning Algorithm\n",
    "\n",
    "Implement the `train` method."
   ]
  },
  {
   "cell_type": "code",
   "execution_count": null,
   "metadata": {},
   "outputs": [],
   "source": [
    "from tqdm import tqdm_notebook as tqdm\n",
    "\n",
    "\n",
    "class DeepQLearning:\n",
    "    # After how many steps the weights are copied to the target-action network\n",
    "    target_network_update_frequency = 1_000\n",
    "    discount_factor = 0.99\n",
    "    # A random policy is run for that many steps to initialize the replay memory\n",
    "    replay_start_size = 5_000\n",
    "\n",
    "    def __init__(self, env, replay_memory, policy, preprocess=preprocess):\n",
    "        self.env = env\n",
    "        self.replay_memory = replay_memory\n",
    "        self.policy = policy\n",
    "        self.preprocess = preprocess\n",
    "        self.rewards = []\n",
    "        self.best_agent = None\n",
    "\n",
    "    def train(self, total_steps, replay_period, weight_filename=None, evaluate=None, double_dqn=True):\n",
    "        \"\"\"\n",
    "        Train the agent using DQN.\n",
    "\n",
    "        Parameters\n",
    "        ==========\n",
    "\n",
    "        total_steps: int\n",
    "            Number of steps the agent is trained for.\n",
    "        replay_period: int\n",
    "            Number of steps between which the network is trained.\n",
    "        weight_filename: str or None\n",
    "            If not None the weights of Q-network are stored to this file during training.\n",
    "        evaluate: int or None\n",
    "            Number of episodes after which the policy is evaluted and the result is printed.\n",
    "        double_qdn: bool\n",
    "            Whether to use Double-DQN (DDQN).\n",
    "        \"\"\"\n",
    "        if len(self.replay_memory) == 0:\n",
    "            self.initialize_replay_memory()\n",
    "        action_value = self.policy\n",
    "        target_action_value = self.policy.copy()\n",
    "        episode = 0\n",
    "        step = 0\n",
    "\n",
    "        while step < total_steps:\n",
    "            episode += 1\n",
    "            self.env.reset()\n",
    "            preprocessed_state = self.preprocess(self.env.state)\n",
    "            print(\"Episode {} ({} steps so far)\".format(episode, step))\n",
    "            for _ in tqdm(range(env.spec.max_episode_steps)):\n",
    "                # your code goes here\n",
    "            if evaluate is not None and episode % evaluate == 0:\n",
    "                total_reward = self.evaluate(target_action_value, weight_filename)\n",
    "                print(\"Total reward: {}\".format(total_reward))\n",
    "\n",
    "    def initialize_replay_memory(self):\n",
    "        \"\"\"Initialize the replay memory using a random policy.\"\"\"\n",
    "        self.env.reset()\n",
    "        self.replay_memory.purge()\n",
    "        state = self.preprocess(self.env.state)\n",
    "        size = min(self.replay_start_size, self.replay_memory.capacity)\n",
    "        print(\"Initialize replay memory with {} transitions\".format(size))\n",
    "        for _ in tqdm(range(size)):\n",
    "            action_index, action = self.policy.sample(return_index=True)\n",
    "            new_state, reward, terminated, _info = self.env.step(action)\n",
    "            new_state = self.preprocess(new_state)\n",
    "            self.replay_memory.add(state, action_index, reward, new_state)\n",
    "            if terminated:\n",
    "                self.env.reset()\n",
    "                state = self.preprocess(self.env.state)\n",
    "            else:\n",
    "                state = new_state\n",
    "\n",
    "    def evaluate(self, policy, weight_filename=None):\n",
    "        state = self.env.reset()\n",
    "        total_reward = 0\n",
    "        for _ in tqdm(range(env.spec.max_episode_steps)):\n",
    "            # get action from policy\n",
    "            _, action = policy(self.preprocess(state))\n",
    "            state, r, terminal, _ = self.env.step(action)\n",
    "            total_reward = r + total_reward\n",
    "            if terminal:\n",
    "                break\n",
    "        if self.best_agent is None or total_reward > max(self.rewards):\n",
    "            self.best_agent = policy.copy()\n",
    "            if weight_filename is not None:\n",
    "                self.best_agent.q_network.save(weight_filename + '.best')\n",
    "        self.rewards.append(total_reward)\n",
    "        return total_reward"
   ]
  },
  {
   "cell_type": "markdown",
   "metadata": {},
   "source": [
    "Let's create all objects, set parameters, and start training. **Make sure the replay memory is not too big for your memory!**"
   ]
  },
  {
   "cell_type": "code",
   "execution_count": null,
   "metadata": {},
   "outputs": [],
   "source": [
    "# Get shape of transformed state\n",
    "s = preprocess(env.reset())\n",
    "img_shape = s[0].shape\n",
    "scalar_shape = s[1].shape\n",
    "\n",
    "# Create the Q-Network\n",
    "q_network = QNetwork((img_shape, scalar_shape), action_space)\n",
    "\n",
    "policy = EpsilonGreedyPolicy(q_network)\n",
    "policy.initial_exploration = 1.0  # initial epsilon value\n",
    "policy.final_exploration = 0.01  # lowest epsilon value\n",
    "policy.evaluation_exploration = 0.001  # epsilon used during evaluation\n",
    "policy.final_exploration_step = 500_000  # number of steps over which epsilon is linearly decreased\n",
    "\n",
    "# Create the (empty) replay memory\n",
    "replay_memory = ProportionalPrioritizationReplayMemory(\n",
    "    img_shape, scalar_shape,\n",
    "    # ATTENTION: This is most likely too much for a laptop\n",
    "    capacity=500_000, batch_size=32)\n",
    "\n",
    "dqn = DeepQLearning(env, replay_memory, policy)\n",
    "dqn.target_network_update_frequency = 5_000\n",
    "dqn.replay_start_size = 512"
   ]
  },
  {
   "cell_type": "code",
   "execution_count": null,
   "metadata": {},
   "outputs": [],
   "source": [
    "dqn.train(episodes=1000, max_steps_per_episode=1000, evaluate=5, weight_filename=\"agent.h5\")"
   ]
  },
  {
   "cell_type": "markdown",
   "metadata": {},
   "source": [
    "We can watch the agent:"
   ]
  },
  {
   "cell_type": "code",
   "execution_count": null,
   "metadata": {},
   "outputs": [],
   "source": [
    "def render_policy(env, preprocess, policy):\n",
    "    \"\"\"Visualize a policy for an environment.\"\"\"\n",
    "    env.reset()\n",
    "    while True:\n",
    "        state = preprocess(env.state)\n",
    "        terminal = env.step(policy(state)[1])[2]\n",
    "        env.render()\n",
    "        if terminal:\n",
    "            break"
   ]
  },
  {
   "cell_type": "code",
   "execution_count": null,
   "metadata": {},
   "outputs": [],
   "source": [
    "# Optional: To record the video uncomment the following lines \n",
    "# and change \"env\" in the call to render_policy below to \"rec_env\"\n",
    "\n",
    "# rec_env = gym.wrappers.Monitor(env, \"recording\", video_callable=lambda episode_id: True, force=True)\n",
    "# rec_env.reset_video_recorder()\n",
    "render_policy(env, preprocess, policy)"
   ]
  }
 ],
 "metadata": {
  "kernelspec": {
   "display_name": "Python 3",
   "language": "python",
   "name": "python3"
  },
  "language_info": {
   "codemirror_mode": {
    "name": "ipython",
    "version": 3
   },
   "file_extension": ".py",
   "mimetype": "text/x-python",
   "name": "python",
   "nbconvert_exporter": "python",
   "pygments_lexer": "ipython3",
   "version": "3.7.3"
  }
 },
 "nbformat": 4,
 "nbformat_minor": 2
}

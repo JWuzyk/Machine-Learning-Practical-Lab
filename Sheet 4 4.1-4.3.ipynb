{
 "cells": [
  {
   "cell_type": "code",
   "execution_count": 7,
   "metadata": {},
   "outputs": [
    {
     "name": "stderr",
     "output_type": "stream",
     "text": [
      "Using TensorFlow backend.\n"
     ]
    }
   ],
   "source": [
    "import numpy as np\n",
    "import tensorflow as tf\n",
    "import keras\n",
    "import tensorflow.keras.layers as layers\n",
    "from tensorflow.keras import backend as K\n",
    "import matplotlib.pyplot as plt"
   ]
  },
  {
   "cell_type": "markdown",
   "metadata": {},
   "source": [
    "# Template for Keras tasks of sheet 5"
   ]
  },
  {
   "cell_type": "code",
   "execution_count": 8,
   "metadata": {},
   "outputs": [],
   "source": [
    "# Load MNIST data\n",
    "(X_train, y_train), (X_test, y_test) = tf.keras.datasets.mnist.load_data()\n",
    "img_rows, img_cols = 28, 28\n",
    "\n",
    "# Normalize it\n",
    "X_train = X_train.astype('float32') / 255\n",
    "X_test = X_test.astype('float32') / 255\n",
    "# Store it in the correct format for Keras\n",
    "# The image data has a single channel (grayscale values)\n",
    "if K.image_data_format() == 'channels_first':\n",
    "    X_train = X_train.reshape(X_train.shape[0], 1, img_rows, img_cols)\n",
    "    X_test = X_test.reshape(X_test.shape[0], 1, img_rows, img_cols)\n",
    "    input_shape = (1, img_rows, img_cols)\n",
    "else:\n",
    "    X_train = X_train.reshape(X_train.shape[0], img_rows, img_cols, 1)\n",
    "    X_test = X_test.reshape(X_test.shape[0], img_rows, img_cols, 1)\n",
    "    input_shape = (img_rows, img_cols, 1)\n",
    "# Store the labels in the correct format for Keras\n",
    "Y_train = keras.utils.np_utils.to_categorical(y_train, 10)\n",
    "Y_test = keras.utils.np_utils.to_categorical(y_test, 10)"
   ]
  },
  {
   "cell_type": "markdown",
   "metadata": {},
   "source": [
    "To use `X_train` for fully-connected inputs, reshape it. Use the `input_shape` variable in the first layer of your networks."
   ]
  },
  {
   "cell_type": "code",
   "execution_count": 9,
   "metadata": {},
   "outputs": [],
   "source": [
    "def plot_history(history):\n",
    "    \"\"\"Create a plot showing the training history of `model.fit`.\n",
    "    \n",
    "    Example:\n",
    "        history = model.fit(...)\n",
    "        plot_history(history)\n",
    "    \"\"\"\n",
    "    x = range(history.params['epochs'])\n",
    "    acc, val_acc = history.history['acc'], history.history.get('val_acc')\n",
    "    f, axarr = plt.subplots(2, sharex=True)\n",
    "    axarr[0].set_title('accuracy')\n",
    "    axarr[0].plot(x, acc, label='train')\n",
    "    if val_acc:\n",
    "        axarr[0].plot(x, val_acc, label='validation')\n",
    "    axarr[0].legend()\n",
    "    \n",
    "    loss, val_loss = history.history['loss'], history.history.get('val_loss')\n",
    "    axarr[1].set_title('loss')\n",
    "    axarr[1].plot(x, loss, label='train')\n",
    "    if val_loss:\n",
    "        axarr[1].plot(x, val_loss, label='validation')\n",
    "    axarr[1].legend()"
   ]
  },
  {
   "cell_type": "markdown",
   "metadata": {},
   "source": [
    "# Task 4.1-4.3"
   ]
  },
  {
   "cell_type": "code",
   "execution_count": 10,
   "metadata": {},
   "outputs": [],
   "source": [
    "def conplot(NN, value=0, maxx=2, minx=-2, maxy=2, miny=-2):\n",
    " \n",
    "    #create meshgrid using the given min and max x,y values\n",
    "    t = np.arange(minx-1, maxx+1, 0.1)\n",
    "    s = np.arange(miny-1, maxy+1, 0.1)\n",
    "    p,q = np.meshgrid(t, s)\n",
    "    \n",
    "    funcArgs = np.array([p.flatten(), q.flatten()]).T\n",
    "    r = NN.ff(funcArgs)\n",
    "    r= np.reshape(r, p.shape)\n",
    "    \n",
    "    plt.contourf(t,s,r,[-99999,value,99999], colors=['blue','red'],alpha=0.2)\n",
    "\n",
    "def conplotKeras(model, value=0, maxx=2, minx=-2, maxy=2, miny=-2):\n",
    " \n",
    "    #create meshgrid using the given min and max x,y values\n",
    "    t = np.arange(minx-1, maxx+1, 0.1)\n",
    "    s = np.arange(miny-1, maxy+1, 0.1)\n",
    "    p,q = np.meshgrid(t, s)\n",
    "    \n",
    "    funcArgs = np.array([p.flatten(), q.flatten()]).T\n",
    "    r = model.predict(funcArgs)\n",
    "    r= np.reshape(r, p.shape)\n",
    "    \n",
    "    plt.contourf(t,s,r,[-99999,value,99999], colors=['blue','red'],alpha=0.2)"
   ]
  },
  {
   "cell_type": "code",
   "execution_count": 11,
   "metadata": {},
   "outputs": [],
   "source": [
    "class id:\n",
    "    def __init__(self):\n",
    "        print('hi')\n",
    "\n",
    "    def eval(x):\n",
    "        return x\n",
    "    def der(x):\n",
    "        return np.ones(x.shape)\n",
    "\n",
    "class relu:\n",
    "    def __init__(self):\n",
    "        print('hi')\n",
    "    \n",
    "    def eval(x):\n",
    "        return np.maximum(x,0)\n",
    "    \n",
    "    def der(x):\n",
    "        x[np.maximum(x,0)==0]=0\n",
    "        x[np.maximum(x,0) != 0]=1\n",
    "        return x\n",
    "\n",
    "    \n",
    "\n",
    "class TwoLayerNN:\n",
    "    def __init__(self,Data_X,Data_Y, nu =0.1, K = 10 , d_2 = 20, phi_2 = relu, phi_3 = id):\n",
    "        #Data,learning rate , Batch size , Steps, numer of neurons, first activation function, second activation function\n",
    "        self.Data_X = Data_X\n",
    "        self.Data_Y = Data_Y\n",
    "        self.nu= nu\n",
    "        self.K = K\n",
    "        self.Steps = Steps\n",
    "        self.d_1 = Data_X.shape[1]\n",
    "        self.d_2 = d_2\n",
    "        self.phi_2 = phi_2\n",
    "        self.phi_3 = phi_3\n",
    "        self.weights_1 = np.random.uniform(-1,1, (self.d_1,self.d_2))\n",
    "        self.weights_2 = np.random.uniform(-1,1, (self.d_2,1))\n",
    "        self.bias_1 = np.random.uniform(-1,1, (self.d_2,1))\n",
    "        self.bias_2 = np.random.uniform(-1,1)\n",
    "        \n",
    "    def ff(self,x):\n",
    "        o_1 = x.reshape(x.shape[0],1,x.shape[1])\n",
    "        net_2= o_1 @ self.weights_1\n",
    "        net_2 += self.bias_1.reshape((1,1,self.d_2))\n",
    "        o_2 = self.phi_2.eval(net_2)\n",
    "        net_3 = o_2 @ self.weights_2 + self.bias_2\n",
    "        o_3 = self.phi_3.eval(net_3)\n",
    "        return o_3\n",
    "        \n",
    "    def backprop(self,x,y):\n",
    "        o_1 = x.reshape(x.shape[0],1,x.shape[1])\n",
    "        net_2= o_1 @ self.weights_1\n",
    "        net_2 += self.bias_1.reshape((1,1,self.d_2))\n",
    "        o_2 = self.phi_2.eval(net_2)\n",
    "        net_3 = o_2 @ self.weights_2 + self.bias_2\n",
    "        o_3 = self.phi_3.eval(net_3)\n",
    "        \n",
    "        delta_2 = 2*(o_3 - y.reshape(y.shape[0],1,1))\n",
    "        delta_1 = (delta_2* self.phi_3.der(net_3)) @ self.weights_2.T\n",
    "        delta_0 = (delta_1 * self.phi_2.der(net_2)) @ self.weights_1.T\n",
    "        grad_W1= o_1 * (delta_1 * self.phi_2.der(net_2)).reshape(self.K,self.d_2,1)\n",
    "        grad_W2= o_2 * (delta_2 * self.phi_3.der(net_3))\n",
    "        \n",
    "        grad_b1= delta_1 * self.phi_2.der(net_2)\n",
    "        grad_b2= delta_2 * self.phi_3.der(net_3)\n",
    "        \n",
    "        self.weights_1 = self.weights_1 - (1/self.K)*self.nu*np.sum(grad_W1,axis=0).T\n",
    "        self.weights_2 =self.weights_2 - (1/self.K)*self.nu*np.sum(grad_W2,axis=0).T\n",
    "        self.bias_1 = self.bias_1 - (1/self.K)*self.nu*np.sum(grad_b1,axis=0).T\n",
    "        self.bias_2 =self.bias_2 - (1/self.K)*self.nu*np.sum(grad_b2,axis=0).T\n",
    "        \n",
    "    def StocGradDesc(self):\n",
    "        Batch_X,Batch_Y = self.DrawBatch()\n",
    "        self.backprop(Batch_X,Batch_Y)\n",
    "        \n",
    "        \n",
    "    def DrawBatch(self):\n",
    "        C = np.random.randint(0,self.Data_X.shape[0],(self.K))\n",
    "        return self.Data_X[C],self.Data_Y[C]\n",
    "    \n",
    "    def LSE(self):\n",
    "        return (1/self.Data_X.shape[0])*np.sum((self.ff(self.Data_X)-self.Data_Y.reshape((self.Data_Y.shape[0],1,1)))**2)"
   ]
  },
  {
   "cell_type": "code",
   "execution_count": 12,
   "metadata": {},
   "outputs": [],
   "source": [
    "# create data, take a uniform distribution on [0,1]x[0,2\\pi], scale 1st coord by sqrt( to get uniform dist on disk) and map to circle using polar coords\n",
    "\n",
    "n= 250 #number of samples\n",
    "x= np.random.uniform(0,1,n)\n",
    "x=x**0.5\n",
    "y= np.random.uniform(0,2*np.pi,n)\n",
    "yd=x*np.sin(y)\n",
    "xd=x*np.cos(y)\n",
    "X1= np.vstack((xd,yd)).T\n",
    "X1lbl=-1*np.ones(n)\n",
    "\n",
    "#similarly for annulus\n",
    "x= np.random.uniform(1,4,n)\n",
    "x=x**0.5\n",
    "y= np.random.uniform(0,2*np.pi,n)\n",
    "yd=x*np.sin(y)\n",
    "xd=x*np.cos(y)\n",
    "X2= np.vstack((xd,yd)).T\n",
    "X2lbl=np.ones(n)\n",
    "#label X1 by -1 and X2 by 1\n",
    "\n",
    "\n",
    "X_Data = np.concatenate((X1,X2))\n",
    "Y_Data = np.concatenate((X1lbl,X2lbl))"
   ]
  },
  {
   "cell_type": "code",
   "execution_count": 13,
   "metadata": {},
   "outputs": [
    {
     "name": "stdout",
     "output_type": "stream",
     "text": [
      "Least squares error after 0 itterations: 4.249135405291288\n",
      "Least squares error after 5000 itterations: 0.22355535460948955\n",
      "Least squares error after 10000 itterations: 0.20769059700798354\n",
      "Least squares error after 15000 itterations: 0.1948396659939644\n",
      "Least squares error after 20000 itterations: 0.19056790592604786\n",
      "Least squares error after 25000 itterations: 0.16898435464693357\n",
      "Least squares error after 30000 itterations: 0.1619411246596141\n",
      "Least squares error after 35000 itterations: 0.17518333864253652\n",
      "Least squares error after 40000 itterations: 0.1568058483588574\n",
      "Least squares error after 45000 itterations: 0.1621632842082383\n",
      "Least squares error after 50000 itterations: 0.14920659360125496\n",
      "Least squares error after 55000 itterations: 0.1564912831186276\n",
      "Least squares error after 60000 itterations: 0.14574864084613678\n",
      "Least squares error after 65000 itterations: 0.16599234897033607\n",
      "Least squares error after 70000 itterations: 0.1715895639280844\n",
      "Least squares error after 75000 itterations: 0.12997283740727422\n",
      "Least squares error after 80000 itterations: 0.13916188206138025\n",
      "Least squares error after 85000 itterations: 0.1637881876154447\n",
      "Least squares error after 90000 itterations: 0.12122908838600649\n",
      "Least squares error after 95000 itterations: 0.19639555354309368\n",
      "Least squares error after 100000 itterations: 0.11828781846327761\n",
      "Least squares error after 105000 itterations: 0.1540542313061707\n",
      "Least squares error after 110000 itterations: 0.17944658874910244\n",
      "Least squares error after 115000 itterations: 0.11507784852729498\n",
      "Least squares error after 120000 itterations: 0.1323973080855999\n",
      "Least squares error after 125000 itterations: 0.12596211899569867\n",
      "Least squares error after 130000 itterations: 0.12715510037469205\n",
      "Least squares error after 135000 itterations: 0.11253761819236503\n",
      "Least squares error after 140000 itterations: 0.1132285849762491\n",
      "Least squares error after 145000 itterations: 0.1661763244970606\n",
      "final Least squares error: 0.1134468644788155\n"
     ]
    }
   ],
   "source": [
    "Steps = 30*5000\n",
    "NN= TwoLayerNN(X_Data,Y_Data,nu=0.01)\n",
    "for i in range(Steps):\n",
    "    NN.StocGradDesc()\n",
    "    if i % 5000 == 0:\n",
    "        print(f\"Least squares error after {i} itterations: {NN.LSE()}\")\n",
    "        \n",
    "print(f\"final Least squares error: {NN.LSE()}\")"
   ]
  },
  {
   "cell_type": "code",
   "execution_count": 14,
   "metadata": {},
   "outputs": [
    {
     "data": {
      "image/png": "[encoded data removed]",
      "text/plain": [
       "<Figure size 432x288 with 1 Axes>"
      ]
     },
     "metadata": {
      "needs_background": "light"
     },
     "output_type": "display_data"
    }
   ],
   "source": [
    "conplot(NN)\n",
    "plt.plot(X_Data[Y_Data==-1][:,0],X_Data[Y_Data==-1][:,1],'bo',markersize=3)\n",
    "plt.plot(X_Data[Y_Data==1][:,0],X_Data[Y_Data==1][:,1],'ro',markersize=3)\n",
    "plt.show()"
   ]
  },
  {
   "cell_type": "markdown",
   "metadata": {},
   "source": [
    "nu = 1 -- Error\n",
    "S(* 5000): 5      10     20     30\n",
    "nu: 0.1    0.19   0.21   0.19   0.20\n",
    "nu: 0.01   0.15   0.15   0.12   0.10\n",
    "nu: 0.001  0.23   0.20   0.19   0.17"
   ]
  },
  {
   "cell_type": "markdown",
   "metadata": {},
   "source": [
    "Based on some testing it seems nu = 0.01 and S = 30* 5000 is optimal. Running upto 100* 5000 doesn't help."
   ]
  },
  {
   "cell_type": "code",
   "execution_count": 15,
   "metadata": {},
   "outputs": [
    {
     "name": "stderr",
     "output_type": "stream",
     "text": [
      "WARNING: Logging before flag parsing goes to stderr.\n",
      "W0608 23:21:21.975554  1488 deprecation.py:506] From C:\\Users\\janwu\\AppData\\Roaming\\Python\\Python37\\site-packages\\tensorflow\\python\\ops\\init_ops.py:1251: calling VarianceScaling.__init__ (from tensorflow.python.ops.init_ops) with dtype is deprecated and will be removed in a future version.\n",
      "Instructions for updating:\n",
      "Call initializer instance with the dtype argument instead of passing it to the constructor\n"
     ]
    },
    {
     "name": "stdout",
     "output_type": "stream",
     "text": [
      "Epoch 1/50\n",
      "500/500 [==============================] - 0s 508us/sample - loss: 0.9259 - acc: 0.2620\n",
      "Epoch 2/50\n",
      "500/500 [==============================] - 0s 100us/sample - loss: 0.8545 - acc: 0.1720\n",
      "Epoch 3/50\n",
      "500/500 [==============================] - 0s 96us/sample - loss: 0.8094 - acc: 0.1420\n",
      "Epoch 4/50\n",
      "500/500 [==============================] - 0s 134us/sample - loss: 0.7680 - acc: 0.1560\n",
      "Epoch 5/50\n",
      "500/500 [==============================] - 0s 130us/sample - loss: 0.7294 - acc: 0.1440\n",
      "Epoch 6/50\n",
      "500/500 [==============================] - ETA: 0s - loss: 0.6903 - acc: 0.1529    - 0s 154us/sample - loss: 0.6910 - acc: 0.1600\n",
      "Epoch 7/50\n",
      "500/500 [==============================] - 0s 144us/sample - loss: 0.6518 - acc: 0.1580\n",
      "Epoch 8/50\n",
      "500/500 [==============================] - 0s 110us/sample - loss: 0.6116 - acc: 0.1840\n",
      "Epoch 9/50\n",
      "500/500 [==============================] - 0s 122us/sample - loss: 0.5757 - acc: 0.1880\n",
      "Epoch 10/50\n",
      "500/500 [==============================] - 0s 110us/sample - loss: 0.5405 - acc: 0.1960\n",
      "Epoch 11/50\n",
      "500/500 [==============================] - 0s 138us/sample - loss: 0.5075 - acc: 0.2060\n",
      "Epoch 12/50\n",
      "500/500 [==============================] - 0s 124us/sample - loss: 0.4749 - acc: 0.2220\n",
      "Epoch 13/50\n",
      "500/500 [==============================] - ETA: 0s - loss: 0.4517 - acc: 0.223 - 0s 180us/sample - loss: 0.4469 - acc: 0.2340\n",
      "Epoch 14/50\n",
      "500/500 [==============================] - 0s 154us/sample - loss: 0.4218 - acc: 0.2460\n",
      "Epoch 15/50\n",
      "500/500 [==============================] - 0s 172us/sample - loss: 0.3990 - acc: 0.2560\n",
      "Epoch 16/50\n",
      "500/500 [==============================] - 0s 122us/sample - loss: 0.3782 - acc: 0.2640\n",
      "Epoch 17/50\n",
      "500/500 [==============================] - 0s 152us/sample - loss: 0.3607 - acc: 0.2680\n",
      "Epoch 18/50\n",
      "500/500 [==============================] - 0s 150us/sample - loss: 0.3452 - acc: 0.2720\n",
      "Epoch 19/50\n",
      "500/500 [==============================] - 0s 156us/sample - loss: 0.3291 - acc: 0.2880\n",
      "Epoch 20/50\n",
      "500/500 [==============================] - 0s 164us/sample - loss: 0.3162 - acc: 0.2940\n",
      "Epoch 21/50\n",
      "500/500 [==============================] - 0s 146us/sample - loss: 0.3060 - acc: 0.3060\n",
      "Epoch 22/50\n",
      "500/500 [==============================] - 0s 138us/sample - loss: 0.2964 - acc: 0.3020\n",
      "Epoch 23/50\n",
      "500/500 [==============================] - 0s 132us/sample - loss: 0.2887 - acc: 0.3080\n",
      "Epoch 24/50\n",
      "500/500 [==============================] - 0s 162us/sample - loss: 0.2829 - acc: 0.3080\n",
      "Epoch 25/50\n",
      "500/500 [==============================] - 0s 174us/sample - loss: 0.2769 - acc: 0.3140\n",
      "Epoch 26/50\n",
      "500/500 [==============================] - 0s 140us/sample - loss: 0.2722 - acc: 0.3160\n",
      "Epoch 27/50\n",
      "500/500 [==============================] - 0s 158us/sample - loss: 0.2687 - acc: 0.3140\n",
      "Epoch 28/50\n",
      "500/500 [==============================] - 0s 162us/sample - loss: 0.2654 - acc: 0.3220\n",
      "Epoch 29/50\n",
      "500/500 [==============================] - 0s 180us/sample - loss: 0.2623 - acc: 0.3200\n",
      "Epoch 30/50\n",
      "500/500 [==============================] - 0s 150us/sample - loss: 0.2624 - acc: 0.3100\n",
      "Epoch 31/50\n",
      "500/500 [==============================] - 0s 134us/sample - loss: 0.2594 - acc: 0.3220\n",
      "Epoch 32/50\n",
      "500/500 [==============================] - 0s 138us/sample - loss: 0.2574 - acc: 0.3180\n",
      "Epoch 33/50\n",
      "500/500 [==============================] - 0s 176us/sample - loss: 0.2562 - acc: 0.3180\n",
      "Epoch 34/50\n",
      "500/500 [==============================] - 0s 146us/sample - loss: 0.2553 - acc: 0.3220\n",
      "Epoch 35/50\n",
      "500/500 [==============================] - 0s 148us/sample - loss: 0.2537 - acc: 0.3200\n",
      "Epoch 36/50\n",
      "500/500 [==============================] - 0s 164us/sample - loss: 0.2519 - acc: 0.3140\n",
      "Epoch 37/50\n",
      "500/500 [==============================] - 0s 156us/sample - loss: 0.2521 - acc: 0.3240\n",
      "Epoch 38/50\n",
      "500/500 [==============================] - 0s 148us/sample - loss: 0.2521 - acc: 0.3140\n",
      "Epoch 39/50\n",
      "500/500 [==============================] - 0s 148us/sample - loss: 0.2499 - acc: 0.3280\n",
      "Epoch 40/50\n",
      "500/500 [==============================] - 0s 164us/sample - loss: 0.2493 - acc: 0.3200\n",
      "Epoch 41/50\n",
      "500/500 [==============================] - 0s 130us/sample - loss: 0.2489 - acc: 0.3220\n",
      "Epoch 42/50\n",
      "500/500 [==============================] - 0s 156us/sample - loss: 0.2492 - acc: 0.3200\n",
      "Epoch 43/50\n",
      "500/500 [==============================] - 0s 130us/sample - loss: 0.2478 - acc: 0.3260\n",
      "Epoch 44/50\n",
      "500/500 [==============================] - 0s 146us/sample - loss: 0.2469 - acc: 0.3200\n",
      "Epoch 45/50\n",
      "500/500 [==============================] - 0s 156us/sample - loss: 0.2480 - acc: 0.3160\n",
      "Epoch 46/50\n",
      "500/500 [==============================] - 0s 172us/sample - loss: 0.2463 - acc: 0.3240s - loss: 0.2551 - acc: 0.306\n",
      "Epoch 47/50\n",
      "500/500 [==============================] - 0s 144us/sample - loss: 0.2452 - acc: 0.3220\n",
      "Epoch 48/50\n",
      "500/500 [==============================] - 0s 106us/sample - loss: 0.2459 - acc: 0.3260\n",
      "Epoch 49/50\n",
      "500/500 [==============================] - 0s 94us/sample - loss: 0.2447 - acc: 0.3200\n",
      "Epoch 50/50\n",
      "500/500 [==============================] - 0s 128us/sample - loss: 0.2449 - acc: 0.3280\n"
     ]
    },
    {
     "data": {
      "text/plain": [
       "<tensorflow.python.keras.callbacks.History at 0x20b4611edd8>"
      ]
     },
     "execution_count": 15,
     "metadata": {},
     "output_type": "execute_result"
    }
   ],
   "source": [
    "model = tf.keras.models.Sequential()\n",
    "\n",
    "model.add(layers.Dense(20, activation = 'relu')  )\n",
    "model.add(layers.Dense(1, activation = 'linear')  )\n",
    "\n",
    "model.compile(loss='mean_squared_error', optimizer ='adam', metrics =['accuracy'])\n",
    "\n",
    "model.fit(X_Data, Y_Data, batch_size = 20, epochs=50)"
   ]
  },
  {
   "cell_type": "code",
   "execution_count": 16,
   "metadata": {},
   "outputs": [
    {
     "data": {
      "image/png": "[encoded data removed]",
      "text/plain": [
       "<Figure size 432x288 with 1 Axes>"
      ]
     },
     "metadata": {
      "needs_background": "light"
     },
     "output_type": "display_data"
    }
   ],
   "source": [
    "conplotKeras(model)\n",
    "plt.plot(X_Data[Y_Data==-1][:,0],X_Data[Y_Data==-1][:,1],'bo',markersize=3)\n",
    "plt.plot(X_Data[Y_Data==1][:,0],X_Data[Y_Data==1][:,1],'ro',markersize=3)\n",
    "plt.show()"
   ]
  },
  {
   "cell_type": "code",
   "execution_count": null,
   "metadata": {},
   "outputs": [],
   "source": []
  }
 ],
 "metadata": {
  "kernelspec": {
   "display_name": "Python 3",
   "language": "python",
   "name": "python3"
  }
 },
 "nbformat": 4,
 "nbformat_minor": 2
}
